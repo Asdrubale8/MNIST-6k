{
  "nbformat": 4,
  "nbformat_minor": 0,
  "metadata": {
    "accelerator": "GPU",
    "colab": {
      "name": "Gabriele_Di_Lieto_874143_assignment3.ipynb",
      "provenance": [],
      "collapsed_sections": []
    },
    "kernelspec": {
      "display_name": "Python 3",
      "language": "python",
      "name": "python3"
    },
    "language_info": {
      "codemirror_mode": {
        "name": "ipython",
        "version": 3
      },
      "file_extension": ".py",
      "mimetype": "text/x-python",
      "name": "python",
      "nbconvert_exporter": "python",
      "pygments_lexer": "ipython3",
      "version": "3.6.4"
    }
  },
  "cells": [
    {
      "cell_type": "markdown",
      "metadata": {
        "id": "FH5ja_uiJbr6"
      },
      "source": [
        "# CNN for MNIST digits dataset"
      ]
    },
    {
      "cell_type": "markdown",
      "metadata": {
        "id": "RVxosTe6H1d0"
      },
      "source": [
        "## Importing libraries"
      ]
    },
    {
      "cell_type": "markdown",
      "metadata": {
        "id": "bBGLR4_BhMsR"
      },
      "source": [
        "Importing the libraries we need to build the network."
      ]
    },
    {
      "cell_type": "code",
      "metadata": {
        "id": "YprDUMHtJOi-"
      },
      "source": [
        "%matplotlib inline\n",
        "\n",
        "import numpy as np\n",
        "from tensorflow import keras\n",
        "from tensorflow.keras import layers\n",
        "from collections import Counter\n",
        "from matplotlib import pyplot as plt"
      ],
      "execution_count": 134,
      "outputs": []
    },
    {
      "cell_type": "code",
      "metadata": {
        "id": "j1SesUxlNmmx"
      },
      "source": [
        "from sklearn import datasets\n",
        "from sklearn.model_selection import train_test_split\n",
        "from sklearn.metrics import classification_report\n",
        "from sklearn.datasets import make_classification\n",
        "from sklearn.utils import shuffle"
      ],
      "execution_count": 135,
      "outputs": []
    },
    {
      "cell_type": "code",
      "metadata": {
        "id": "1rRCZtJ7JOjF"
      },
      "source": [
        "import tensorflow as tf\n",
        "from keras.models import Sequential, Model\n",
        "from keras.layers import Input\n",
        "from keras.layers.core import Dense, Dropout, Activation, Flatten\n",
        "from keras.utils import np_utils\n",
        "from keras.callbacks import EarlyStopping, ModelCheckpoint\n",
        "from tensorflow.keras import regularizers\n",
        "from tensorflow.keras.optimizers import SGD\n",
        "from tensorflow.keras.optimizers import Adam"
      ],
      "execution_count": 136,
      "outputs": []
    },
    {
      "cell_type": "code",
      "metadata": {
        "id": "LBUoaKTbkNch"
      },
      "source": [
        "import warnings\n",
        "warnings.filterwarnings(\"ignore\")"
      ],
      "execution_count": 137,
      "outputs": []
    },
    {
      "cell_type": "markdown",
      "metadata": {
        "id": "MQLKYH4Yi6RD"
      },
      "source": [
        "## Declaring functions"
      ]
    },
    {
      "cell_type": "code",
      "metadata": {
        "id": "S1FGz9zJi_bt"
      },
      "source": [
        "def plt_classes_histogram(y, nb_classes):\n",
        "  plt.hist(y, bins = np.linspace(min(set(y)), max(set(y))+1, num=nb_classes+1))\n",
        "  plt.show()"
      ],
      "execution_count": 138,
      "outputs": []
    },
    {
      "cell_type": "code",
      "metadata": {
        "id": "5XYTKIGST_Sh"
      },
      "source": [
        "def plot_history(x_plot, network_history, best_epoch=None):\n",
        "    plt.figure()\n",
        "    plt.xlabel('Epochs')\n",
        "    plt.ylabel('Loss')\n",
        "    plt.ylim(0.0,0.9)\n",
        "    plt.plot(x_plot, network_history.history['loss'])\n",
        "    plt.plot(x_plot, network_history.history['val_loss'])\n",
        "    if best_epoch != None:\n",
        "      plt.plot(best_epoch, network_history.history['val_loss'][best_epoch], marker='o')\n",
        "    plt.legend(['Training', 'Validation'])\n",
        "\n",
        "    plt.figure()\n",
        "    plt.xlabel('Epochs')\n",
        "    plt.ylabel('Accuracy')\n",
        "    plt.plot(x_plot, network_history.history['accuracy'])\n",
        "    plt.plot(x_plot, network_history.history['val_accuracy'])\n",
        "    if best_epoch != None:\n",
        "      plt.plot(best_epoch, network_history.history['val_accuracy'][best_epoch], marker='o')\n",
        "    plt.legend(['Training', 'Validation'], loc='lower right')\n",
        "    plt.show()"
      ],
      "execution_count": 139,
      "outputs": []
    },
    {
      "cell_type": "markdown",
      "metadata": {
        "id": "cYoKgMkTIaUd"
      },
      "source": [
        "## Loading the dataset"
      ]
    },
    {
      "cell_type": "markdown",
      "metadata": {
        "id": "x7YdadPyI8BF"
      },
      "source": [
        "Loading the train and test sets of MNIST dataset."
      ]
    },
    {
      "cell_type": "code",
      "metadata": {
        "id": "RD1gz2K2IgPV"
      },
      "source": [
        "(x_train, y_train), (x_test, y_test) = keras.datasets.mnist.load_data()"
      ],
      "execution_count": 140,
      "outputs": []
    },
    {
      "cell_type": "markdown",
      "metadata": {
        "id": "P0VtmMfDPL8p"
      },
      "source": [
        "##Inspecting the data"
      ]
    },
    {
      "cell_type": "code",
      "metadata": {
        "colab": {
          "base_uri": "https://localhost:8080/",
          "height": 0
        },
        "id": "opSUc_NvIC9o",
        "outputId": "402e1eb9-9d3e-45ed-f5d3-f855cb017739"
      },
      "source": [
        "print(\"x_train shape: \", x_train.shape)"
      ],
      "execution_count": 141,
      "outputs": [
        {
          "output_type": "stream",
          "name": "stdout",
          "text": [
            "x_train shape:  (60000, 28, 28)\n"
          ]
        }
      ]
    },
    {
      "cell_type": "code",
      "metadata": {
        "colab": {
          "base_uri": "https://localhost:8080/",
          "height": 0
        },
        "id": "qUEAQU5XIdMB",
        "outputId": "77add151-64f4-44cd-abad-ee173122c6f4"
      },
      "source": [
        "nb_classes = len(set(y_train))\n",
        "print('Number of categories:',nb_classes)"
      ],
      "execution_count": 142,
      "outputs": [
        {
          "output_type": "stream",
          "name": "stdout",
          "text": [
            "Number of categories: 10\n"
          ]
        }
      ]
    },
    {
      "cell_type": "code",
      "metadata": {
        "colab": {
          "base_uri": "https://localhost:8080/",
          "height": 0
        },
        "id": "nLzCeZAIIdMC",
        "outputId": "9b78c2fd-88da-45e1-e439-4c82707660d3"
      },
      "source": [
        "x_train[0].shape, x_train[0].shape[0]*x_train[0].shape[1], np.min(x_train[0]), np.max(x_train[0])"
      ],
      "execution_count": 143,
      "outputs": [
        {
          "output_type": "execute_result",
          "data": {
            "text/plain": [
              "((28, 28), 784, 0, 255)"
            ]
          },
          "metadata": {},
          "execution_count": 143
        }
      ]
    },
    {
      "cell_type": "code",
      "metadata": {
        "colab": {
          "base_uri": "https://localhost:8080/",
          "height": 282
        },
        "id": "YlBob9AWEP6u",
        "outputId": "f0af03aa-88b3-49ce-9d3b-0c4b6f273c4f"
      },
      "source": [
        "plt.imshow(x_train[0])"
      ],
      "execution_count": 144,
      "outputs": [
        {
          "output_type": "execute_result",
          "data": {
            "text/plain": [
              "<matplotlib.image.AxesImage at 0x7fb408b06550>"
            ]
          },
          "metadata": {},
          "execution_count": 144
        },
        {
          "output_type": "display_data",
          "data": {
            "image/png": "[encoded data removed]",
            "text/plain": [
              "<Figure size 432x288 with 1 Axes>"
            ]
          },
          "metadata": {
            "needs_background": "light"
          }
        }
      ]
    },
    {
      "cell_type": "markdown",
      "metadata": {
        "id": "49AyGv8avzMP"
      },
      "source": [
        "As we can see below, the dataset is quite balanced, and the distributions of train and test dataset are similiar. We won't go for a rebalancing."
      ]
    },
    {
      "cell_type": "code",
      "metadata": {
        "colab": {
          "base_uri": "https://localhost:8080/",
          "height": 0
        },
        "id": "O93j0d7xGsBj",
        "outputId": "4e67090a-9922-43e1-bfde-874db3f0108c"
      },
      "source": [
        "print(dict(Counter(y_train)))\n",
        "print(dict(Counter(y_test)))"
      ],
      "execution_count": 145,
      "outputs": [
        {
          "output_type": "stream",
          "name": "stdout",
          "text": [
            "{5: 5421, 0: 5923, 4: 5842, 1: 6742, 9: 5949, 2: 5958, 3: 6131, 6: 5918, 7: 6265, 8: 5851}\n",
            "{7: 1028, 2: 1032, 1: 1135, 0: 980, 4: 982, 9: 1009, 5: 892, 6: 958, 3: 1010, 8: 974}\n"
          ]
        }
      ]
    },
    {
      "cell_type": "code",
      "metadata": {
        "colab": {
          "base_uri": "https://localhost:8080/",
          "height": 515
        },
        "id": "TJvyKG3zZeOW",
        "outputId": "410cedde-f2c1-40ac-e822-f4fb3f430282"
      },
      "source": [
        "plt_classes_histogram(y_train, nb_classes)\n",
        "plt_classes_histogram(y_test, nb_classes)"
      ],
      "execution_count": 146,
      "outputs": [
        {
          "output_type": "display_data",
          "data": {
            "image/png": "[encoded data removed]",
            "text/plain": [
              "<Figure size 432x288 with 1 Axes>"
            ]
          },
          "metadata": {
            "needs_background": "light"
          }
        },
        {
          "output_type": "display_data",
          "data": {
            "image/png": "[encoded data removed]",
            "text/plain": [
              "<Figure size 432x288 with 1 Axes>"
            ]
          },
          "metadata": {
            "needs_background": "light"
          }
        }
      ]
    },
    {
      "cell_type": "markdown",
      "metadata": {
        "id": "PjWrQr5vWTTG"
      },
      "source": [
        "## Preparing the data"
      ]
    },
    {
      "cell_type": "code",
      "metadata": {
        "id": "XbqPsS06TnuJ"
      },
      "source": [
        "seed = 0"
      ],
      "execution_count": null,
      "outputs": []
    },
    {
      "cell_type": "markdown",
      "metadata": {
        "id": "GiV-ANBJKqKE"
      },
      "source": [
        "### Data normalization"
      ]
    },
    {
      "cell_type": "markdown",
      "metadata": {
        "id": "80szZd-gM8yM"
      },
      "source": [
        "Here we perform a normalization of the data, casting images to matrix of float between 0 and 1."
      ]
    },
    {
      "cell_type": "code",
      "metadata": {
        "id": "gOS0DWXOROSF"
      },
      "source": [
        "X_train = x_train.astype(\"float32\")/255\n",
        "X_test = x_test.astype(\"float32\")/255"
      ],
      "execution_count": 147,
      "outputs": []
    },
    {
      "cell_type": "markdown",
      "metadata": {
        "id": "bvUI192ak_TR"
      },
      "source": [
        "### Reshaping the dataset"
      ]
    },
    {
      "cell_type": "markdown",
      "metadata": {
        "id": "thwVdk26lEtN"
      },
      "source": [
        "Below we transform the shape of the dataset to 28x28x1"
      ]
    },
    {
      "cell_type": "code",
      "metadata": {
        "id": "jFnC3ZZNlJrl"
      },
      "source": [
        "X_train = np.expand_dims(X_train, -1)\n",
        "X_test = np.expand_dims(X_test, -1)\n",
        "input_shape = (28,28,1)"
      ],
      "execution_count": 148,
      "outputs": []
    },
    {
      "cell_type": "code",
      "metadata": {
        "colab": {
          "base_uri": "https://localhost:8080/",
          "height": 0
        },
        "id": "_now7mKBmb3f",
        "outputId": "5e438c95-952f-445d-928d-b9c6eee70c97"
      },
      "source": [
        "print(\"x_train after reshape: \", X_train.shape)"
      ],
      "execution_count": 149,
      "outputs": [
        {
          "output_type": "stream",
          "name": "stdout",
          "text": [
            "x_train after reshape:  (60000, 28, 28, 1)\n"
          ]
        }
      ]
    },
    {
      "cell_type": "markdown",
      "metadata": {
        "id": "D26w_WQWJVQu"
      },
      "source": [
        "### Shuffle data and check good train/validation splitting"
      ]
    },
    {
      "cell_type": "markdown",
      "metadata": {
        "id": "aAw03P5vJuNj"
      },
      "source": [
        "Here we shuffle the data before splitting to avoid imbalances between the training and validation set distributions."
      ]
    },
    {
      "cell_type": "code",
      "metadata": {
        "id": "9kmCCE_eKcZx"
      },
      "source": [
        "Y_train = shuffle(y_train, random_state = seed)\n",
        "X_train = shuffle(X_train, random_state = seed)"
      ],
      "execution_count": 150,
      "outputs": []
    },
    {
      "cell_type": "markdown",
      "metadata": {
        "id": "1_fCwONCALhz"
      },
      "source": [
        "### Split Training and Validation Data"
      ]
    },
    {
      "cell_type": "markdown",
      "metadata": {
        "id": "OaUv00KqMtyN"
      },
      "source": [
        "Since the dataset is quite populous and to reduce the differences between the training distribution and the validation distribution, we consider a validation set of 10%.\n"
      ]
    },
    {
      "cell_type": "code",
      "metadata": {
        "id": "lxe5WJdoALh1"
      },
      "source": [
        "X_train, X_val, Y_train, Y_val = train_test_split(X_train, Y_train, test_size = 0.1)"
      ],
      "execution_count": 151,
      "outputs": []
    },
    {
      "cell_type": "code",
      "metadata": {
        "colab": {
          "base_uri": "https://localhost:8080/",
          "height": 0
        },
        "id": "sz3Jct-SALiA",
        "outputId": "0e417dc6-607e-4250-91cf-38bb341bef17"
      },
      "source": [
        "print('Size of the training set:', X_train.shape)\n",
        "print('Size of the validation set:', X_val.shape)"
      ],
      "execution_count": 152,
      "outputs": [
        {
          "output_type": "stream",
          "name": "stdout",
          "text": [
            "Size of the training set: (54000, 28, 28, 1)\n",
            "Size of the validation set: (6000, 28, 28, 1)\n"
          ]
        }
      ]
    },
    {
      "cell_type": "code",
      "metadata": {
        "colab": {
          "base_uri": "https://localhost:8080/",
          "height": 516
        },
        "id": "D-6cnQg1W64O",
        "outputId": "38036aa2-63c5-44b4-e674-a814503e6909"
      },
      "source": [
        "plt_classes_histogram(Y_train, nb_classes)\n",
        "plt_classes_histogram(Y_val, nb_classes)"
      ],
      "execution_count": 153,
      "outputs": [
        {
          "output_type": "display_data",
          "data": {
            "image/png": "[encoded data removed]",
            "text/plain": [
              "<Figure size 432x288 with 1 Axes>"
            ]
          },
          "metadata": {
            "needs_background": "light"
          }
        },
        {
          "output_type": "display_data",
          "data": {
            "image/png": "[encoded data removed]",
            "text/plain": [
              "<Figure size 432x288 with 1 Axes>"
            ]
          },
          "metadata": {
            "needs_background": "light"
          }
        }
      ]
    },
    {
      "cell_type": "markdown",
      "metadata": {
        "id": "0NR0R2acXmMA"
      },
      "source": [
        "As we can see after the splitting both the training and the validation distributions are quite similiar. So 10% seems a good choice for a validation splitting."
      ]
    },
    {
      "cell_type": "markdown",
      "metadata": {
        "id": "7vAzeomqU8EG"
      },
      "source": [
        "### Categorization of the classes"
      ]
    },
    {
      "cell_type": "code",
      "metadata": {
        "id": "5GeCi5_9ALhv"
      },
      "source": [
        "Y_train =  keras.utils.to_categorical(Y_train, nb_classes)\n",
        "Y_val =  keras.utils.to_categorical(Y_val, nb_classes)\n",
        "Y_test =  keras.utils.to_categorical(y_test, nb_classes)"
      ],
      "execution_count": 154,
      "outputs": []
    },
    {
      "cell_type": "code",
      "metadata": {
        "colab": {
          "base_uri": "https://localhost:8080/",
          "height": 0
        },
        "id": "f0POBe6AmRg4",
        "outputId": "314fbd94-119b-4fc1-f4e2-a3e9ed46a040"
      },
      "source": [
        "print(\"y_train shape after casting to categorical : \", Y_train.shape)"
      ],
      "execution_count": 155,
      "outputs": [
        {
          "output_type": "stream",
          "name": "stdout",
          "text": [
            "y_train shape after casting to categorical :  (54000, 10)\n"
          ]
        }
      ]
    },
    {
      "cell_type": "markdown",
      "metadata": {
        "id": "Eb9aljYxJbsK"
      },
      "source": [
        "## Building the network"
      ]
    },
    {
      "cell_type": "markdown",
      "metadata": {
        "id": "E6QsOtDno0s0"
      },
      "source": [
        "The network architecture consists of:\n",
        "1.   a convolutional layer, of 8 filters with 5x5 window\n",
        "2.   a max pooling layer, which reduces the output of the previous layer by a factor of 4\n",
        "3.   a convolutional layer, of 16 filters with 3x3 window\n",
        "4.   a max pooling layer, which reduces the output of the previous layer by a factor of 4\n",
        "5.   a flatten layer, which converts the output shape of the previous layer into a flat layer, with a dropout rate of 0.3 as a regularization technique\n",
        "6.   an output layer with 10 neurons totally connected to the previous layer\n",
        "\n",
        "We have that the number of parameters for the first convolutional layer **(1)** is *((5x5)+1)x8 = 208*, as we have windows of 5x5 weights for 8 filters plus the bias parameter for the 8 filters. \n",
        "\n",
        "The output of this layer has a shape *(28-5+1)x(28-5+1)x8*, which is reduced by a factor of 4 by the max pooling layer **(2)**, becoming *13x13x8*.\n",
        "\n",
        "Then we have that the number of parameters for the second convolutional layer **(3)** is *(((3x3)x8)+1)x16 = 1168*, as we have windows of 3x3 weights for 8 channels for 16 filters plus the bias parameter for the 16 filters.\n",
        "\n",
        "The output of this layer has a shape *(13-3+1)x(13-3+1)x16*, which is reduced by a factor of 4 by the max pooling layer **(4)**, becoming *5x5x16*.\n",
        "\n",
        "Then the flatten layer **(5)** transforms the previous *5x5x16* shape into a flat layer of *400* neurons, that is fully connected to the output layer of 10 neurons **(6)**. So the number of parameters to link those layers is *(400+1)x10 = 4010*.\n",
        "\n",
        "The total number of parameters of the networks is then *208+1168+4010 = 5386*.\n"
      ]
    },
    {
      "cell_type": "markdown",
      "metadata": {
        "id": "YcqcBYi5Ggid"
      },
      "source": [
        "![CNN-MINST-6k.png](data:image/png;base64,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)"
      ]
    },
    {
      "cell_type": "markdown",
      "metadata": {
        "id": "5aLoidf7rRBX"
      },
      "source": [
        "### CNN Network"
      ]
    },
    {
      "cell_type": "markdown",
      "metadata": {
        "id": "pfJg6PqUGfh2"
      },
      "source": [
        "Here is a list of the hyper-parameters used to tune the network:\n",
        "*   optimizer: adam\n",
        "*   activation function: relu \n",
        "*   output function: softmax \n",
        "*   learning rate: 0.001\n",
        "*   batch size: 128\n",
        "*   number of epochs: 200 (using model checkpoint to store the weights of the best epoch with lowest loss)\n",
        "*   dropout rate: 30%\n",
        "\n"
      ]
    },
    {
      "cell_type": "code",
      "metadata": {
        "id": "E8giPmXK24yL"
      },
      "source": [
        "initializer = tf.keras.initializers.GlorotUniform(seed=seed) "
      ],
      "execution_count": 156,
      "outputs": []
    },
    {
      "cell_type": "code",
      "metadata": {
        "id": "605Q6l1yrRBX"
      },
      "source": [
        "model = keras.Sequential(\n",
        "    [\n",
        "     keras.Input(shape=input_shape),\n",
        "     layers.Conv2D(8, kernel_size=(5, 5), activation=\"relu\", kernel_initializer=initializer),\n",
        "     layers.MaxPooling2D(pool_size=(2, 2)),\n",
        "     layers.Conv2D(16, kernel_size=(3, 3), activation=\"relu\", kernel_initializer=initializer),\n",
        "     layers.MaxPooling2D(pool_size=(2, 2)),\n",
        "     layers.Flatten(),\n",
        "     layers.Dropout(0.3),\n",
        "     layers.Dense(nb_classes, activation=\"softmax\")\n",
        "    ]\n",
        ")\n",
        "\n",
        "model.compile(optimizer=Adam(learning_rate=0.001), loss='categorical_crossentropy',metrics=['accuracy'])"
      ],
      "execution_count": 187,
      "outputs": []
    },
    {
      "cell_type": "code",
      "metadata": {
        "colab": {
          "base_uri": "https://localhost:8080/",
          "height": 0
        },
        "id": "8YqwQLwWrRBY",
        "outputId": "3abbf340-2991-40d3-bc85-67aebe08ba18"
      },
      "source": [
        "model.summary()"
      ],
      "execution_count": 188,
      "outputs": [
        {
          "output_type": "stream",
          "name": "stdout",
          "text": [
            "Model: \"sequential_12\"\n",
            "_________________________________________________________________\n",
            " Layer (type)                Output Shape              Param #   \n",
            "=================================================================\n",
            " conv2d_24 (Conv2D)          (None, 24, 24, 8)         208       \n",
            "                                                                 \n",
            " max_pooling2d_24 (MaxPoolin  (None, 12, 12, 8)        0         \n",
            " g2D)                                                            \n",
            "                                                                 \n",
            " conv2d_25 (Conv2D)          (None, 10, 10, 16)        1168      \n",
            "                                                                 \n",
            " max_pooling2d_25 (MaxPoolin  (None, 5, 5, 16)         0         \n",
            " g2D)                                                            \n",
            "                                                                 \n",
            " flatten_12 (Flatten)        (None, 400)               0         \n",
            "                                                                 \n",
            " dropout_12 (Dropout)        (None, 400)               0         \n",
            "                                                                 \n",
            " dense_12 (Dense)            (None, 10)                4010      \n",
            "                                                                 \n",
            "=================================================================\n",
            "Total params: 5,386\n",
            "Trainable params: 5,386\n",
            "Non-trainable params: 0\n",
            "_________________________________________________________________\n"
          ]
        }
      ]
    },
    {
      "cell_type": "code",
      "metadata": {
        "colab": {
          "base_uri": "https://localhost:8080/",
          "height": 0
        },
        "id": "mGrNqDiPrRBY",
        "scrolled": false,
        "outputId": "84860bdb-12aa-4195-9bfb-7a7e57fd064b"
      },
      "source": [
        "n_epochs = 200\n",
        "batch_size = 128\n",
        "\n",
        "best_model = ModelCheckpoint('best_model.h5', verbose=1, save_best_only=True)\n",
        "\n",
        "network_history = model.fit(X_train, Y_train, batch_size=batch_size, epochs=n_epochs, verbose=2, validation_data=(X_val, Y_val), callbacks=[best_model])"
      ],
      "execution_count": 189,
      "outputs": [
        {
          "output_type": "stream",
          "name": "stdout",
          "text": [
            "Epoch 1/200\n",
            "\n",
            "Epoch 00001: val_loss improved from inf to 0.16668, saving model to best_model.h5\n",
            "422/422 - 3s - loss: 0.5624 - accuracy: 0.8240 - val_loss: 0.1667 - val_accuracy: 0.9502 - 3s/epoch - 8ms/step\n",
            "Epoch 2/200\n",
            "\n",
            "Epoch 00002: val_loss improved from 0.16668 to 0.10981, saving model to best_model.h5\n",
            "422/422 - 2s - loss: 0.1742 - accuracy: 0.9468 - val_loss: 0.1098 - val_accuracy: 0.9665 - 2s/epoch - 5ms/step\n",
            "Epoch 3/200\n",
            "\n",
            "Epoch 00003: val_loss improved from 0.10981 to 0.08706, saving model to best_model.h5\n",
            "422/422 - 2s - loss: 0.1284 - accuracy: 0.9616 - val_loss: 0.0871 - val_accuracy: 0.9717 - 2s/epoch - 6ms/step\n",
            "Epoch 4/200\n",
            "\n",
            "Epoch 00004: val_loss improved from 0.08706 to 0.07368, saving model to best_model.h5\n",
            "422/422 - 2s - loss: 0.1067 - accuracy: 0.9669 - val_loss: 0.0737 - val_accuracy: 0.9773 - 2s/epoch - 6ms/step\n",
            "Epoch 5/200\n",
            "\n",
            "Epoch 00005: val_loss improved from 0.07368 to 0.06996, saving model to best_model.h5\n",
            "422/422 - 2s - loss: 0.0960 - accuracy: 0.9710 - val_loss: 0.0700 - val_accuracy: 0.9783 - 2s/epoch - 5ms/step\n",
            "Epoch 6/200\n",
            "\n",
            "Epoch 00006: val_loss improved from 0.06996 to 0.05832, saving model to best_model.h5\n",
            "422/422 - 2s - loss: 0.0882 - accuracy: 0.9730 - val_loss: 0.0583 - val_accuracy: 0.9817 - 2s/epoch - 5ms/step\n",
            "Epoch 7/200\n",
            "\n",
            "Epoch 00007: val_loss improved from 0.05832 to 0.05507, saving model to best_model.h5\n",
            "422/422 - 2s - loss: 0.0820 - accuracy: 0.9744 - val_loss: 0.0551 - val_accuracy: 0.9842 - 2s/epoch - 5ms/step\n",
            "Epoch 8/200\n",
            "\n",
            "Epoch 00008: val_loss improved from 0.05507 to 0.05478, saving model to best_model.h5\n",
            "422/422 - 2s - loss: 0.0758 - accuracy: 0.9764 - val_loss: 0.0548 - val_accuracy: 0.9828 - 2s/epoch - 6ms/step\n",
            "Epoch 9/200\n",
            "\n",
            "Epoch 00009: val_loss improved from 0.05478 to 0.05278, saving model to best_model.h5\n",
            "422/422 - 2s - loss: 0.0705 - accuracy: 0.9778 - val_loss: 0.0528 - val_accuracy: 0.9840 - 2s/epoch - 6ms/step\n",
            "Epoch 10/200\n",
            "\n",
            "Epoch 00010: val_loss improved from 0.05278 to 0.04830, saving model to best_model.h5\n",
            "422/422 - 2s - loss: 0.0677 - accuracy: 0.9788 - val_loss: 0.0483 - val_accuracy: 0.9860 - 2s/epoch - 5ms/step\n",
            "Epoch 11/200\n",
            "\n",
            "Epoch 00011: val_loss improved from 0.04830 to 0.04816, saving model to best_model.h5\n",
            "422/422 - 2s - loss: 0.0659 - accuracy: 0.9793 - val_loss: 0.0482 - val_accuracy: 0.9860 - 2s/epoch - 5ms/step\n",
            "Epoch 12/200\n",
            "\n",
            "Epoch 00012: val_loss improved from 0.04816 to 0.04587, saving model to best_model.h5\n",
            "422/422 - 2s - loss: 0.0642 - accuracy: 0.9799 - val_loss: 0.0459 - val_accuracy: 0.9875 - 2s/epoch - 5ms/step\n",
            "Epoch 13/200\n",
            "\n",
            "Epoch 00013: val_loss improved from 0.04587 to 0.04566, saving model to best_model.h5\n",
            "422/422 - 2s - loss: 0.0622 - accuracy: 0.9803 - val_loss: 0.0457 - val_accuracy: 0.9850 - 2s/epoch - 6ms/step\n",
            "Epoch 14/200\n",
            "\n",
            "Epoch 00014: val_loss improved from 0.04566 to 0.04440, saving model to best_model.h5\n",
            "422/422 - 2s - loss: 0.0586 - accuracy: 0.9816 - val_loss: 0.0444 - val_accuracy: 0.9867 - 2s/epoch - 5ms/step\n",
            "Epoch 15/200\n",
            "\n",
            "Epoch 00015: val_loss improved from 0.04440 to 0.04296, saving model to best_model.h5\n",
            "422/422 - 2s - loss: 0.0575 - accuracy: 0.9822 - val_loss: 0.0430 - val_accuracy: 0.9867 - 2s/epoch - 5ms/step\n",
            "Epoch 16/200\n",
            "\n",
            "Epoch 00016: val_loss did not improve from 0.04296\n",
            "422/422 - 2s - loss: 0.0542 - accuracy: 0.9831 - val_loss: 0.0431 - val_accuracy: 0.9885 - 2s/epoch - 5ms/step\n",
            "Epoch 17/200\n",
            "\n",
            "Epoch 00017: val_loss improved from 0.04296 to 0.04219, saving model to best_model.h5\n",
            "422/422 - 2s - loss: 0.0557 - accuracy: 0.9826 - val_loss: 0.0422 - val_accuracy: 0.9873 - 2s/epoch - 5ms/step\n",
            "Epoch 18/200\n",
            "\n",
            "Epoch 00018: val_loss did not improve from 0.04219\n",
            "422/422 - 2s - loss: 0.0529 - accuracy: 0.9832 - val_loss: 0.0436 - val_accuracy: 0.9877 - 2s/epoch - 5ms/step\n",
            "Epoch 19/200\n",
            "\n",
            "Epoch 00019: val_loss improved from 0.04219 to 0.03996, saving model to best_model.h5\n",
            "422/422 - 2s - loss: 0.0511 - accuracy: 0.9836 - val_loss: 0.0400 - val_accuracy: 0.9890 - 2s/epoch - 5ms/step\n",
            "Epoch 20/200\n",
            "\n",
            "Epoch 00020: val_loss did not improve from 0.03996\n",
            "422/422 - 2s - loss: 0.0526 - accuracy: 0.9836 - val_loss: 0.0407 - val_accuracy: 0.9887 - 2s/epoch - 5ms/step\n",
            "Epoch 21/200\n",
            "\n",
            "Epoch 00021: val_loss improved from 0.03996 to 0.03776, saving model to best_model.h5\n",
            "422/422 - 2s - loss: 0.0499 - accuracy: 0.9845 - val_loss: 0.0378 - val_accuracy: 0.9898 - 2s/epoch - 6ms/step\n",
            "Epoch 22/200\n",
            "\n",
            "Epoch 00022: val_loss did not improve from 0.03776\n",
            "422/422 - 2s - loss: 0.0492 - accuracy: 0.9847 - val_loss: 0.0380 - val_accuracy: 0.9893 - 2s/epoch - 5ms/step\n",
            "Epoch 23/200\n",
            "\n",
            "Epoch 00023: val_loss did not improve from 0.03776\n",
            "422/422 - 2s - loss: 0.0490 - accuracy: 0.9844 - val_loss: 0.0392 - val_accuracy: 0.9893 - 2s/epoch - 5ms/step\n",
            "Epoch 24/200\n",
            "\n",
            "Epoch 00024: val_loss did not improve from 0.03776\n",
            "422/422 - 2s - loss: 0.0457 - accuracy: 0.9852 - val_loss: 0.0407 - val_accuracy: 0.9880 - 2s/epoch - 5ms/step\n",
            "Epoch 25/200\n",
            "\n",
            "Epoch 00025: val_loss did not improve from 0.03776\n",
            "422/422 - 2s - loss: 0.0459 - accuracy: 0.9853 - val_loss: 0.0382 - val_accuracy: 0.9898 - 2s/epoch - 5ms/step\n",
            "Epoch 26/200\n",
            "\n",
            "Epoch 00026: val_loss improved from 0.03776 to 0.03744, saving model to best_model.h5\n",
            "422/422 - 2s - loss: 0.0469 - accuracy: 0.9847 - val_loss: 0.0374 - val_accuracy: 0.9902 - 2s/epoch - 5ms/step\n",
            "Epoch 27/200\n",
            "\n",
            "Epoch 00027: val_loss did not improve from 0.03744\n",
            "422/422 - 2s - loss: 0.0446 - accuracy: 0.9859 - val_loss: 0.0375 - val_accuracy: 0.9900 - 2s/epoch - 5ms/step\n",
            "Epoch 28/200\n",
            "\n",
            "Epoch 00028: val_loss improved from 0.03744 to 0.03496, saving model to best_model.h5\n",
            "422/422 - 2s - loss: 0.0456 - accuracy: 0.9852 - val_loss: 0.0350 - val_accuracy: 0.9905 - 2s/epoch - 5ms/step\n",
            "Epoch 29/200\n",
            "\n",
            "Epoch 00029: val_loss did not improve from 0.03496\n",
            "422/422 - 2s - loss: 0.0425 - accuracy: 0.9866 - val_loss: 0.0378 - val_accuracy: 0.9892 - 2s/epoch - 6ms/step\n",
            "Epoch 30/200\n",
            "\n",
            "Epoch 00030: val_loss did not improve from 0.03496\n",
            "422/422 - 2s - loss: 0.0440 - accuracy: 0.9861 - val_loss: 0.0386 - val_accuracy: 0.9900 - 2s/epoch - 6ms/step\n",
            "Epoch 31/200\n",
            "\n",
            "Epoch 00031: val_loss did not improve from 0.03496\n",
            "422/422 - 2s - loss: 0.0427 - accuracy: 0.9861 - val_loss: 0.0356 - val_accuracy: 0.9902 - 2s/epoch - 5ms/step\n",
            "Epoch 32/200\n",
            "\n",
            "Epoch 00032: val_loss did not improve from 0.03496\n",
            "422/422 - 2s - loss: 0.0418 - accuracy: 0.9866 - val_loss: 0.0370 - val_accuracy: 0.9900 - 2s/epoch - 5ms/step\n",
            "Epoch 33/200\n",
            "\n",
            "Epoch 00033: val_loss did not improve from 0.03496\n",
            "422/422 - 2s - loss: 0.0402 - accuracy: 0.9868 - val_loss: 0.0352 - val_accuracy: 0.9905 - 2s/epoch - 5ms/step\n",
            "Epoch 34/200\n",
            "\n",
            "Epoch 00034: val_loss improved from 0.03496 to 0.03449, saving model to best_model.h5\n",
            "422/422 - 2s - loss: 0.0417 - accuracy: 0.9864 - val_loss: 0.0345 - val_accuracy: 0.9907 - 2s/epoch - 5ms/step\n",
            "Epoch 35/200\n",
            "\n",
            "Epoch 00035: val_loss did not improve from 0.03449\n",
            "422/422 - 2s - loss: 0.0406 - accuracy: 0.9873 - val_loss: 0.0353 - val_accuracy: 0.9900 - 2s/epoch - 5ms/step\n",
            "Epoch 36/200\n",
            "\n",
            "Epoch 00036: val_loss improved from 0.03449 to 0.03423, saving model to best_model.h5\n",
            "422/422 - 2s - loss: 0.0407 - accuracy: 0.9870 - val_loss: 0.0342 - val_accuracy: 0.9903 - 2s/epoch - 6ms/step\n",
            "Epoch 37/200\n",
            "\n",
            "Epoch 00037: val_loss did not improve from 0.03423\n",
            "422/422 - 2s - loss: 0.0413 - accuracy: 0.9865 - val_loss: 0.0346 - val_accuracy: 0.9908 - 2s/epoch - 5ms/step\n",
            "Epoch 38/200\n",
            "\n",
            "Epoch 00038: val_loss did not improve from 0.03423\n",
            "422/422 - 2s - loss: 0.0403 - accuracy: 0.9874 - val_loss: 0.0350 - val_accuracy: 0.9900 - 2s/epoch - 5ms/step\n",
            "Epoch 39/200\n",
            "\n",
            "Epoch 00039: val_loss did not improve from 0.03423\n",
            "422/422 - 2s - loss: 0.0389 - accuracy: 0.9873 - val_loss: 0.0347 - val_accuracy: 0.9900 - 2s/epoch - 5ms/step\n",
            "Epoch 40/200\n",
            "\n",
            "Epoch 00040: val_loss improved from 0.03423 to 0.03250, saving model to best_model.h5\n",
            "422/422 - 2s - loss: 0.0381 - accuracy: 0.9876 - val_loss: 0.0325 - val_accuracy: 0.9907 - 2s/epoch - 5ms/step\n",
            "Epoch 41/200\n",
            "\n",
            "Epoch 00041: val_loss did not improve from 0.03250\n",
            "422/422 - 2s - loss: 0.0393 - accuracy: 0.9874 - val_loss: 0.0333 - val_accuracy: 0.9907 - 2s/epoch - 5ms/step\n",
            "Epoch 42/200\n",
            "\n",
            "Epoch 00042: val_loss did not improve from 0.03250\n",
            "422/422 - 2s - loss: 0.0392 - accuracy: 0.9872 - val_loss: 0.0325 - val_accuracy: 0.9915 - 2s/epoch - 5ms/step\n",
            "Epoch 43/200\n",
            "\n",
            "Epoch 00043: val_loss did not improve from 0.03250\n",
            "422/422 - 2s - loss: 0.0366 - accuracy: 0.9884 - val_loss: 0.0349 - val_accuracy: 0.9905 - 2s/epoch - 5ms/step\n",
            "Epoch 44/200\n",
            "\n",
            "Epoch 00044: val_loss did not improve from 0.03250\n",
            "422/422 - 2s - loss: 0.0355 - accuracy: 0.9879 - val_loss: 0.0345 - val_accuracy: 0.9903 - 2s/epoch - 6ms/step\n",
            "Epoch 45/200\n",
            "\n",
            "Epoch 00045: val_loss did not improve from 0.03250\n",
            "422/422 - 2s - loss: 0.0374 - accuracy: 0.9878 - val_loss: 0.0337 - val_accuracy: 0.9912 - 2s/epoch - 5ms/step\n",
            "Epoch 46/200\n",
            "\n",
            "Epoch 00046: val_loss did not improve from 0.03250\n",
            "422/422 - 2s - loss: 0.0357 - accuracy: 0.9891 - val_loss: 0.0327 - val_accuracy: 0.9912 - 2s/epoch - 5ms/step\n",
            "Epoch 47/200\n",
            "\n",
            "Epoch 00047: val_loss did not improve from 0.03250\n",
            "422/422 - 2s - loss: 0.0372 - accuracy: 0.9884 - val_loss: 0.0329 - val_accuracy: 0.9910 - 2s/epoch - 5ms/step\n",
            "Epoch 48/200\n",
            "\n",
            "Epoch 00048: val_loss did not improve from 0.03250\n",
            "422/422 - 2s - loss: 0.0355 - accuracy: 0.9885 - val_loss: 0.0327 - val_accuracy: 0.9913 - 2s/epoch - 5ms/step\n",
            "Epoch 49/200\n",
            "\n",
            "Epoch 00049: val_loss did not improve from 0.03250\n",
            "422/422 - 2s - loss: 0.0375 - accuracy: 0.9879 - val_loss: 0.0328 - val_accuracy: 0.9905 - 2s/epoch - 5ms/step\n",
            "Epoch 50/200\n",
            "\n",
            "Epoch 00050: val_loss did not improve from 0.03250\n",
            "422/422 - 2s - loss: 0.0364 - accuracy: 0.9879 - val_loss: 0.0357 - val_accuracy: 0.9910 - 2s/epoch - 5ms/step\n",
            "Epoch 51/200\n",
            "\n",
            "Epoch 00051: val_loss improved from 0.03250 to 0.02906, saving model to best_model.h5\n",
            "422/422 - 2s - loss: 0.0355 - accuracy: 0.9881 - val_loss: 0.0291 - val_accuracy: 0.9917 - 2s/epoch - 5ms/step\n",
            "Epoch 52/200\n",
            "\n",
            "Epoch 00052: val_loss did not improve from 0.02906\n",
            "422/422 - 2s - loss: 0.0359 - accuracy: 0.9882 - val_loss: 0.0355 - val_accuracy: 0.9907 - 2s/epoch - 6ms/step\n",
            "Epoch 53/200\n",
            "\n",
            "Epoch 00053: val_loss did not improve from 0.02906\n",
            "422/422 - 2s - loss: 0.0345 - accuracy: 0.9889 - val_loss: 0.0323 - val_accuracy: 0.9917 - 2s/epoch - 5ms/step\n",
            "Epoch 54/200\n",
            "\n",
            "Epoch 00054: val_loss did not improve from 0.02906\n",
            "422/422 - 2s - loss: 0.0344 - accuracy: 0.9881 - val_loss: 0.0315 - val_accuracy: 0.9910 - 2s/epoch - 5ms/step\n",
            "Epoch 55/200\n",
            "\n",
            "Epoch 00055: val_loss did not improve from 0.02906\n",
            "422/422 - 2s - loss: 0.0328 - accuracy: 0.9893 - val_loss: 0.0318 - val_accuracy: 0.9913 - 2s/epoch - 5ms/step\n",
            "Epoch 56/200\n",
            "\n",
            "Epoch 00056: val_loss did not improve from 0.02906\n",
            "422/422 - 2s - loss: 0.0342 - accuracy: 0.9886 - val_loss: 0.0336 - val_accuracy: 0.9910 - 2s/epoch - 5ms/step\n",
            "Epoch 57/200\n",
            "\n",
            "Epoch 00057: val_loss did not improve from 0.02906\n",
            "422/422 - 2s - loss: 0.0348 - accuracy: 0.9884 - val_loss: 0.0323 - val_accuracy: 0.9912 - 2s/epoch - 5ms/step\n",
            "Epoch 58/200\n",
            "\n",
            "Epoch 00058: val_loss did not improve from 0.02906\n",
            "422/422 - 2s - loss: 0.0322 - accuracy: 0.9894 - val_loss: 0.0326 - val_accuracy: 0.9903 - 2s/epoch - 5ms/step\n",
            "Epoch 59/200\n",
            "\n",
            "Epoch 00059: val_loss did not improve from 0.02906\n",
            "422/422 - 2s - loss: 0.0347 - accuracy: 0.9891 - val_loss: 0.0307 - val_accuracy: 0.9913 - 2s/epoch - 5ms/step\n",
            "Epoch 60/200\n",
            "\n",
            "Epoch 00060: val_loss did not improve from 0.02906\n",
            "422/422 - 2s - loss: 0.0335 - accuracy: 0.9891 - val_loss: 0.0315 - val_accuracy: 0.9905 - 2s/epoch - 5ms/step\n",
            "Epoch 61/200\n",
            "\n",
            "Epoch 00061: val_loss did not improve from 0.02906\n",
            "422/422 - 2s - loss: 0.0337 - accuracy: 0.9889 - val_loss: 0.0320 - val_accuracy: 0.9908 - 2s/epoch - 5ms/step\n",
            "Epoch 62/200\n",
            "\n",
            "Epoch 00062: val_loss did not improve from 0.02906\n",
            "422/422 - 2s - loss: 0.0337 - accuracy: 0.9890 - val_loss: 0.0323 - val_accuracy: 0.9905 - 2s/epoch - 5ms/step\n",
            "Epoch 63/200\n",
            "\n",
            "Epoch 00063: val_loss did not improve from 0.02906\n",
            "422/422 - 2s - loss: 0.0337 - accuracy: 0.9888 - val_loss: 0.0311 - val_accuracy: 0.9917 - 2s/epoch - 5ms/step\n",
            "Epoch 64/200\n",
            "\n",
            "Epoch 00064: val_loss did not improve from 0.02906\n",
            "422/422 - 2s - loss: 0.0310 - accuracy: 0.9899 - val_loss: 0.0313 - val_accuracy: 0.9910 - 2s/epoch - 6ms/step\n",
            "Epoch 65/200\n",
            "\n",
            "Epoch 00065: val_loss did not improve from 0.02906\n",
            "422/422 - 2s - loss: 0.0312 - accuracy: 0.9896 - val_loss: 0.0324 - val_accuracy: 0.9915 - 2s/epoch - 5ms/step\n",
            "Epoch 66/200\n",
            "\n",
            "Epoch 00066: val_loss did not improve from 0.02906\n",
            "422/422 - 2s - loss: 0.0329 - accuracy: 0.9891 - val_loss: 0.0298 - val_accuracy: 0.9920 - 2s/epoch - 6ms/step\n",
            "Epoch 67/200\n",
            "\n",
            "Epoch 00067: val_loss did not improve from 0.02906\n",
            "422/422 - 2s - loss: 0.0314 - accuracy: 0.9899 - val_loss: 0.0307 - val_accuracy: 0.9912 - 2s/epoch - 5ms/step\n",
            "Epoch 68/200\n",
            "\n",
            "Epoch 00068: val_loss did not improve from 0.02906\n",
            "422/422 - 2s - loss: 0.0308 - accuracy: 0.9901 - val_loss: 0.0321 - val_accuracy: 0.9902 - 2s/epoch - 5ms/step\n",
            "Epoch 69/200\n",
            "\n",
            "Epoch 00069: val_loss did not improve from 0.02906\n",
            "422/422 - 2s - loss: 0.0325 - accuracy: 0.9889 - val_loss: 0.0317 - val_accuracy: 0.9907 - 2s/epoch - 5ms/step\n",
            "Epoch 70/200\n",
            "\n",
            "Epoch 00070: val_loss improved from 0.02906 to 0.02833, saving model to best_model.h5\n",
            "422/422 - 2s - loss: 0.0302 - accuracy: 0.9895 - val_loss: 0.0283 - val_accuracy: 0.9932 - 2s/epoch - 5ms/step\n",
            "Epoch 71/200\n",
            "\n",
            "Epoch 00071: val_loss did not improve from 0.02833\n",
            "422/422 - 2s - loss: 0.0316 - accuracy: 0.9892 - val_loss: 0.0298 - val_accuracy: 0.9923 - 2s/epoch - 5ms/step\n",
            "Epoch 72/200\n",
            "\n",
            "Epoch 00072: val_loss improved from 0.02833 to 0.02744, saving model to best_model.h5\n",
            "422/422 - 2s - loss: 0.0316 - accuracy: 0.9894 - val_loss: 0.0274 - val_accuracy: 0.9918 - 2s/epoch - 5ms/step\n",
            "Epoch 73/200\n",
            "\n",
            "Epoch 00073: val_loss did not improve from 0.02744\n",
            "422/422 - 2s - loss: 0.0315 - accuracy: 0.9893 - val_loss: 0.0290 - val_accuracy: 0.9923 - 2s/epoch - 5ms/step\n",
            "Epoch 74/200\n",
            "\n",
            "Epoch 00074: val_loss did not improve from 0.02744\n",
            "422/422 - 2s - loss: 0.0301 - accuracy: 0.9900 - val_loss: 0.0308 - val_accuracy: 0.9917 - 2s/epoch - 5ms/step\n",
            "Epoch 75/200\n",
            "\n",
            "Epoch 00075: val_loss did not improve from 0.02744\n",
            "422/422 - 2s - loss: 0.0310 - accuracy: 0.9892 - val_loss: 0.0323 - val_accuracy: 0.9915 - 2s/epoch - 5ms/step\n",
            "Epoch 76/200\n",
            "\n",
            "Epoch 00076: val_loss did not improve from 0.02744\n",
            "422/422 - 2s - loss: 0.0294 - accuracy: 0.9899 - val_loss: 0.0297 - val_accuracy: 0.9910 - 2s/epoch - 5ms/step\n",
            "Epoch 77/200\n",
            "\n",
            "Epoch 00077: val_loss did not improve from 0.02744\n",
            "422/422 - 2s - loss: 0.0319 - accuracy: 0.9899 - val_loss: 0.0304 - val_accuracy: 0.9915 - 2s/epoch - 5ms/step\n",
            "Epoch 78/200\n",
            "\n",
            "Epoch 00078: val_loss did not improve from 0.02744\n",
            "422/422 - 2s - loss: 0.0307 - accuracy: 0.9895 - val_loss: 0.0343 - val_accuracy: 0.9903 - 2s/epoch - 5ms/step\n",
            "Epoch 79/200\n",
            "\n",
            "Epoch 00079: val_loss did not improve from 0.02744\n",
            "422/422 - 2s - loss: 0.0309 - accuracy: 0.9898 - val_loss: 0.0325 - val_accuracy: 0.9913 - 2s/epoch - 5ms/step\n",
            "Epoch 80/200\n",
            "\n",
            "Epoch 00080: val_loss did not improve from 0.02744\n",
            "422/422 - 2s - loss: 0.0299 - accuracy: 0.9899 - val_loss: 0.0356 - val_accuracy: 0.9898 - 2s/epoch - 5ms/step\n",
            "Epoch 81/200\n",
            "\n",
            "Epoch 00081: val_loss did not improve from 0.02744\n",
            "422/422 - 2s - loss: 0.0299 - accuracy: 0.9898 - val_loss: 0.0330 - val_accuracy: 0.9913 - 2s/epoch - 6ms/step\n",
            "Epoch 82/200\n",
            "\n",
            "Epoch 00082: val_loss did not improve from 0.02744\n",
            "422/422 - 2s - loss: 0.0299 - accuracy: 0.9899 - val_loss: 0.0360 - val_accuracy: 0.9903 - 2s/epoch - 5ms/step\n",
            "Epoch 83/200\n",
            "\n",
            "Epoch 00083: val_loss did not improve from 0.02744\n",
            "422/422 - 2s - loss: 0.0294 - accuracy: 0.9905 - val_loss: 0.0312 - val_accuracy: 0.9918 - 2s/epoch - 5ms/step\n",
            "Epoch 84/200\n",
            "\n",
            "Epoch 00084: val_loss did not improve from 0.02744\n",
            "422/422 - 2s - loss: 0.0282 - accuracy: 0.9909 - val_loss: 0.0308 - val_accuracy: 0.9915 - 2s/epoch - 5ms/step\n",
            "Epoch 85/200\n",
            "\n",
            "Epoch 00085: val_loss did not improve from 0.02744\n",
            "422/422 - 2s - loss: 0.0304 - accuracy: 0.9900 - val_loss: 0.0304 - val_accuracy: 0.9917 - 2s/epoch - 5ms/step\n",
            "Epoch 86/200\n",
            "\n",
            "Epoch 00086: val_loss did not improve from 0.02744\n",
            "422/422 - 2s - loss: 0.0294 - accuracy: 0.9903 - val_loss: 0.0307 - val_accuracy: 0.9910 - 2s/epoch - 5ms/step\n",
            "Epoch 87/200\n",
            "\n",
            "Epoch 00087: val_loss did not improve from 0.02744\n",
            "422/422 - 2s - loss: 0.0293 - accuracy: 0.9901 - val_loss: 0.0315 - val_accuracy: 0.9915 - 2s/epoch - 5ms/step\n",
            "Epoch 88/200\n",
            "\n",
            "Epoch 00088: val_loss did not improve from 0.02744\n",
            "422/422 - 2s - loss: 0.0292 - accuracy: 0.9903 - val_loss: 0.0321 - val_accuracy: 0.9910 - 2s/epoch - 5ms/step\n",
            "Epoch 89/200\n",
            "\n",
            "Epoch 00089: val_loss did not improve from 0.02744\n",
            "422/422 - 2s - loss: 0.0284 - accuracy: 0.9904 - val_loss: 0.0304 - val_accuracy: 0.9917 - 2s/epoch - 6ms/step\n",
            "Epoch 90/200\n",
            "\n",
            "Epoch 00090: val_loss did not improve from 0.02744\n",
            "422/422 - 2s - loss: 0.0289 - accuracy: 0.9907 - val_loss: 0.0294 - val_accuracy: 0.9922 - 2s/epoch - 5ms/step\n",
            "Epoch 91/200\n",
            "\n",
            "Epoch 00091: val_loss did not improve from 0.02744\n",
            "422/422 - 2s - loss: 0.0273 - accuracy: 0.9909 - val_loss: 0.0308 - val_accuracy: 0.9922 - 2s/epoch - 5ms/step\n",
            "Epoch 92/200\n",
            "\n",
            "Epoch 00092: val_loss did not improve from 0.02744\n",
            "422/422 - 2s - loss: 0.0267 - accuracy: 0.9911 - val_loss: 0.0304 - val_accuracy: 0.9918 - 2s/epoch - 5ms/step\n",
            "Epoch 93/200\n",
            "\n",
            "Epoch 00093: val_loss did not improve from 0.02744\n",
            "422/422 - 2s - loss: 0.0289 - accuracy: 0.9903 - val_loss: 0.0305 - val_accuracy: 0.9912 - 2s/epoch - 6ms/step\n",
            "Epoch 94/200\n",
            "\n",
            "Epoch 00094: val_loss did not improve from 0.02744\n",
            "422/422 - 2s - loss: 0.0278 - accuracy: 0.9904 - val_loss: 0.0300 - val_accuracy: 0.9918 - 2s/epoch - 5ms/step\n",
            "Epoch 95/200\n",
            "\n",
            "Epoch 00095: val_loss did not improve from 0.02744\n",
            "422/422 - 2s - loss: 0.0283 - accuracy: 0.9901 - val_loss: 0.0294 - val_accuracy: 0.9923 - 2s/epoch - 5ms/step\n",
            "Epoch 96/200\n",
            "\n",
            "Epoch 00096: val_loss did not improve from 0.02744\n",
            "422/422 - 2s - loss: 0.0278 - accuracy: 0.9906 - val_loss: 0.0297 - val_accuracy: 0.9915 - 2s/epoch - 5ms/step\n",
            "Epoch 97/200\n",
            "\n",
            "Epoch 00097: val_loss did not improve from 0.02744\n",
            "422/422 - 2s - loss: 0.0267 - accuracy: 0.9911 - val_loss: 0.0314 - val_accuracy: 0.9917 - 2s/epoch - 5ms/step\n",
            "Epoch 98/200\n",
            "\n",
            "Epoch 00098: val_loss did not improve from 0.02744\n",
            "422/422 - 2s - loss: 0.0262 - accuracy: 0.9910 - val_loss: 0.0316 - val_accuracy: 0.9908 - 2s/epoch - 5ms/step\n",
            "Epoch 99/200\n",
            "\n",
            "Epoch 00099: val_loss did not improve from 0.02744\n",
            "422/422 - 2s - loss: 0.0286 - accuracy: 0.9910 - val_loss: 0.0313 - val_accuracy: 0.9922 - 2s/epoch - 5ms/step\n",
            "Epoch 100/200\n",
            "\n",
            "Epoch 00100: val_loss did not improve from 0.02744\n",
            "422/422 - 2s - loss: 0.0271 - accuracy: 0.9905 - val_loss: 0.0321 - val_accuracy: 0.9915 - 2s/epoch - 5ms/step\n",
            "Epoch 101/200\n",
            "\n",
            "Epoch 00101: val_loss did not improve from 0.02744\n",
            "422/422 - 2s - loss: 0.0256 - accuracy: 0.9920 - val_loss: 0.0323 - val_accuracy: 0.9917 - 2s/epoch - 5ms/step\n",
            "Epoch 102/200\n",
            "\n",
            "Epoch 00102: val_loss did not improve from 0.02744\n",
            "422/422 - 2s - loss: 0.0265 - accuracy: 0.9916 - val_loss: 0.0316 - val_accuracy: 0.9920 - 2s/epoch - 5ms/step\n",
            "Epoch 103/200\n",
            "\n",
            "Epoch 00103: val_loss did not improve from 0.02744\n",
            "422/422 - 2s - loss: 0.0263 - accuracy: 0.9915 - val_loss: 0.0329 - val_accuracy: 0.9915 - 2s/epoch - 5ms/step\n",
            "Epoch 104/200\n",
            "\n",
            "Epoch 00104: val_loss did not improve from 0.02744\n",
            "422/422 - 2s - loss: 0.0257 - accuracy: 0.9911 - val_loss: 0.0327 - val_accuracy: 0.9912 - 2s/epoch - 5ms/step\n",
            "Epoch 105/200\n",
            "\n",
            "Epoch 00105: val_loss did not improve from 0.02744\n",
            "422/422 - 2s - loss: 0.0265 - accuracy: 0.9906 - val_loss: 0.0313 - val_accuracy: 0.9917 - 2s/epoch - 5ms/step\n",
            "Epoch 106/200\n",
            "\n",
            "Epoch 00106: val_loss did not improve from 0.02744\n",
            "422/422 - 2s - loss: 0.0280 - accuracy: 0.9908 - val_loss: 0.0318 - val_accuracy: 0.9920 - 2s/epoch - 5ms/step\n",
            "Epoch 107/200\n",
            "\n",
            "Epoch 00107: val_loss did not improve from 0.02744\n",
            "422/422 - 2s - loss: 0.0262 - accuracy: 0.9913 - val_loss: 0.0306 - val_accuracy: 0.9925 - 2s/epoch - 5ms/step\n",
            "Epoch 108/200\n",
            "\n",
            "Epoch 00108: val_loss did not improve from 0.02744\n",
            "422/422 - 2s - loss: 0.0275 - accuracy: 0.9908 - val_loss: 0.0332 - val_accuracy: 0.9915 - 2s/epoch - 5ms/step\n",
            "Epoch 109/200\n",
            "\n",
            "Epoch 00109: val_loss did not improve from 0.02744\n",
            "422/422 - 2s - loss: 0.0277 - accuracy: 0.9906 - val_loss: 0.0322 - val_accuracy: 0.9923 - 2s/epoch - 5ms/step\n",
            "Epoch 110/200\n",
            "\n",
            "Epoch 00110: val_loss did not improve from 0.02744\n",
            "422/422 - 2s - loss: 0.0266 - accuracy: 0.9910 - val_loss: 0.0318 - val_accuracy: 0.9920 - 2s/epoch - 5ms/step\n",
            "Epoch 111/200\n",
            "\n",
            "Epoch 00111: val_loss did not improve from 0.02744\n",
            "422/422 - 2s - loss: 0.0253 - accuracy: 0.9915 - val_loss: 0.0349 - val_accuracy: 0.9917 - 2s/epoch - 5ms/step\n",
            "Epoch 112/200\n",
            "\n",
            "Epoch 00112: val_loss did not improve from 0.02744\n",
            "422/422 - 2s - loss: 0.0255 - accuracy: 0.9918 - val_loss: 0.0322 - val_accuracy: 0.9910 - 2s/epoch - 6ms/step\n",
            "Epoch 113/200\n",
            "\n",
            "Epoch 00113: val_loss did not improve from 0.02744\n",
            "422/422 - 2s - loss: 0.0266 - accuracy: 0.9909 - val_loss: 0.0307 - val_accuracy: 0.9917 - 2s/epoch - 5ms/step\n",
            "Epoch 114/200\n",
            "\n",
            "Epoch 00114: val_loss did not improve from 0.02744\n",
            "422/422 - 2s - loss: 0.0258 - accuracy: 0.9916 - val_loss: 0.0316 - val_accuracy: 0.9922 - 2s/epoch - 5ms/step\n",
            "Epoch 115/200\n",
            "\n",
            "Epoch 00115: val_loss did not improve from 0.02744\n",
            "422/422 - 2s - loss: 0.0253 - accuracy: 0.9916 - val_loss: 0.0310 - val_accuracy: 0.9925 - 2s/epoch - 5ms/step\n",
            "Epoch 116/200\n",
            "\n",
            "Epoch 00116: val_loss did not improve from 0.02744\n",
            "422/422 - 2s - loss: 0.0265 - accuracy: 0.9911 - val_loss: 0.0304 - val_accuracy: 0.9920 - 2s/epoch - 5ms/step\n",
            "Epoch 117/200\n",
            "\n",
            "Epoch 00117: val_loss did not improve from 0.02744\n",
            "422/422 - 2s - loss: 0.0257 - accuracy: 0.9914 - val_loss: 0.0321 - val_accuracy: 0.9918 - 2s/epoch - 5ms/step\n",
            "Epoch 118/200\n",
            "\n",
            "Epoch 00118: val_loss did not improve from 0.02744\n",
            "422/422 - 2s - loss: 0.0257 - accuracy: 0.9912 - val_loss: 0.0317 - val_accuracy: 0.9923 - 2s/epoch - 5ms/step\n",
            "Epoch 119/200\n",
            "\n",
            "Epoch 00119: val_loss did not improve from 0.02744\n",
            "422/422 - 2s - loss: 0.0265 - accuracy: 0.9911 - val_loss: 0.0328 - val_accuracy: 0.9918 - 2s/epoch - 5ms/step\n",
            "Epoch 120/200\n",
            "\n",
            "Epoch 00120: val_loss did not improve from 0.02744\n",
            "422/422 - 2s - loss: 0.0267 - accuracy: 0.9911 - val_loss: 0.0327 - val_accuracy: 0.9915 - 2s/epoch - 5ms/step\n",
            "Epoch 121/200\n",
            "\n",
            "Epoch 00121: val_loss did not improve from 0.02744\n",
            "422/422 - 2s - loss: 0.0253 - accuracy: 0.9917 - val_loss: 0.0325 - val_accuracy: 0.9923 - 2s/epoch - 6ms/step\n",
            "Epoch 122/200\n",
            "\n",
            "Epoch 00122: val_loss did not improve from 0.02744\n",
            "422/422 - 2s - loss: 0.0257 - accuracy: 0.9914 - val_loss: 0.0328 - val_accuracy: 0.9920 - 2s/epoch - 5ms/step\n",
            "Epoch 123/200\n",
            "\n",
            "Epoch 00123: val_loss did not improve from 0.02744\n",
            "422/422 - 2s - loss: 0.0257 - accuracy: 0.9918 - val_loss: 0.0314 - val_accuracy: 0.9927 - 2s/epoch - 5ms/step\n",
            "Epoch 124/200\n",
            "\n",
            "Epoch 00124: val_loss did not improve from 0.02744\n",
            "422/422 - 2s - loss: 0.0253 - accuracy: 0.9921 - val_loss: 0.0322 - val_accuracy: 0.9922 - 2s/epoch - 5ms/step\n",
            "Epoch 125/200\n",
            "\n",
            "Epoch 00125: val_loss did not improve from 0.02744\n",
            "422/422 - 2s - loss: 0.0262 - accuracy: 0.9912 - val_loss: 0.0328 - val_accuracy: 0.9923 - 2s/epoch - 5ms/step\n",
            "Epoch 126/200\n",
            "\n",
            "Epoch 00126: val_loss did not improve from 0.02744\n",
            "422/422 - 2s - loss: 0.0262 - accuracy: 0.9910 - val_loss: 0.0325 - val_accuracy: 0.9918 - 2s/epoch - 5ms/step\n",
            "Epoch 127/200\n",
            "\n",
            "Epoch 00127: val_loss did not improve from 0.02744\n",
            "422/422 - 2s - loss: 0.0253 - accuracy: 0.9916 - val_loss: 0.0330 - val_accuracy: 0.9917 - 2s/epoch - 5ms/step\n",
            "Epoch 128/200\n",
            "\n",
            "Epoch 00128: val_loss did not improve from 0.02744\n",
            "422/422 - 2s - loss: 0.0262 - accuracy: 0.9914 - val_loss: 0.0330 - val_accuracy: 0.9922 - 2s/epoch - 5ms/step\n",
            "Epoch 129/200\n",
            "\n",
            "Epoch 00129: val_loss did not improve from 0.02744\n",
            "422/422 - 2s - loss: 0.0242 - accuracy: 0.9921 - val_loss: 0.0338 - val_accuracy: 0.9917 - 2s/epoch - 5ms/step\n",
            "Epoch 130/200\n",
            "\n",
            "Epoch 00130: val_loss did not improve from 0.02744\n",
            "422/422 - 2s - loss: 0.0241 - accuracy: 0.9915 - val_loss: 0.0334 - val_accuracy: 0.9927 - 2s/epoch - 5ms/step\n",
            "Epoch 131/200\n",
            "\n",
            "Epoch 00131: val_loss did not improve from 0.02744\n",
            "422/422 - 2s - loss: 0.0252 - accuracy: 0.9914 - val_loss: 0.0326 - val_accuracy: 0.9928 - 2s/epoch - 5ms/step\n",
            "Epoch 132/200\n",
            "\n",
            "Epoch 00132: val_loss did not improve from 0.02744\n",
            "422/422 - 2s - loss: 0.0242 - accuracy: 0.9921 - val_loss: 0.0306 - val_accuracy: 0.9923 - 2s/epoch - 5ms/step\n",
            "Epoch 133/200\n",
            "\n",
            "Epoch 00133: val_loss did not improve from 0.02744\n",
            "422/422 - 2s - loss: 0.0245 - accuracy: 0.9918 - val_loss: 0.0346 - val_accuracy: 0.9917 - 2s/epoch - 5ms/step\n",
            "Epoch 134/200\n",
            "\n",
            "Epoch 00134: val_loss did not improve from 0.02744\n",
            "422/422 - 2s - loss: 0.0248 - accuracy: 0.9916 - val_loss: 0.0330 - val_accuracy: 0.9915 - 2s/epoch - 5ms/step\n",
            "Epoch 135/200\n",
            "\n",
            "Epoch 00135: val_loss did not improve from 0.02744\n",
            "422/422 - 2s - loss: 0.0252 - accuracy: 0.9914 - val_loss: 0.0304 - val_accuracy: 0.9930 - 2s/epoch - 5ms/step\n",
            "Epoch 136/200\n",
            "\n",
            "Epoch 00136: val_loss did not improve from 0.02744\n",
            "422/422 - 2s - loss: 0.0240 - accuracy: 0.9919 - val_loss: 0.0321 - val_accuracy: 0.9918 - 2s/epoch - 5ms/step\n",
            "Epoch 137/200\n",
            "\n",
            "Epoch 00137: val_loss did not improve from 0.02744\n",
            "422/422 - 2s - loss: 0.0239 - accuracy: 0.9922 - val_loss: 0.0327 - val_accuracy: 0.9917 - 2s/epoch - 5ms/step\n",
            "Epoch 138/200\n",
            "\n",
            "Epoch 00138: val_loss did not improve from 0.02744\n",
            "422/422 - 2s - loss: 0.0249 - accuracy: 0.9916 - val_loss: 0.0321 - val_accuracy: 0.9927 - 2s/epoch - 5ms/step\n",
            "Epoch 139/200\n",
            "\n",
            "Epoch 00139: val_loss did not improve from 0.02744\n",
            "422/422 - 2s - loss: 0.0245 - accuracy: 0.9916 - val_loss: 0.0305 - val_accuracy: 0.9927 - 2s/epoch - 5ms/step\n",
            "Epoch 140/200\n",
            "\n",
            "Epoch 00140: val_loss did not improve from 0.02744\n",
            "422/422 - 2s - loss: 0.0240 - accuracy: 0.9920 - val_loss: 0.0315 - val_accuracy: 0.9918 - 2s/epoch - 5ms/step\n",
            "Epoch 141/200\n",
            "\n",
            "Epoch 00141: val_loss did not improve from 0.02744\n",
            "422/422 - 2s - loss: 0.0245 - accuracy: 0.9918 - val_loss: 0.0311 - val_accuracy: 0.9925 - 2s/epoch - 5ms/step\n",
            "Epoch 142/200\n",
            "\n",
            "Epoch 00142: val_loss did not improve from 0.02744\n",
            "422/422 - 2s - loss: 0.0230 - accuracy: 0.9924 - val_loss: 0.0328 - val_accuracy: 0.9910 - 2s/epoch - 5ms/step\n",
            "Epoch 143/200\n",
            "\n",
            "Epoch 00143: val_loss did not improve from 0.02744\n",
            "422/422 - 2s - loss: 0.0247 - accuracy: 0.9913 - val_loss: 0.0347 - val_accuracy: 0.9928 - 2s/epoch - 5ms/step\n",
            "Epoch 144/200\n",
            "\n",
            "Epoch 00144: val_loss did not improve from 0.02744\n",
            "422/422 - 2s - loss: 0.0239 - accuracy: 0.9921 - val_loss: 0.0330 - val_accuracy: 0.9920 - 2s/epoch - 5ms/step\n",
            "Epoch 145/200\n",
            "\n",
            "Epoch 00145: val_loss did not improve from 0.02744\n",
            "422/422 - 2s - loss: 0.0235 - accuracy: 0.9915 - val_loss: 0.0321 - val_accuracy: 0.9917 - 2s/epoch - 5ms/step\n",
            "Epoch 146/200\n",
            "\n",
            "Epoch 00146: val_loss did not improve from 0.02744\n",
            "422/422 - 2s - loss: 0.0238 - accuracy: 0.9919 - val_loss: 0.0331 - val_accuracy: 0.9925 - 2s/epoch - 5ms/step\n",
            "Epoch 147/200\n",
            "\n",
            "Epoch 00147: val_loss did not improve from 0.02744\n",
            "422/422 - 2s - loss: 0.0238 - accuracy: 0.9917 - val_loss: 0.0308 - val_accuracy: 0.9925 - 2s/epoch - 5ms/step\n",
            "Epoch 148/200\n",
            "\n",
            "Epoch 00148: val_loss did not improve from 0.02744\n",
            "422/422 - 2s - loss: 0.0244 - accuracy: 0.9919 - val_loss: 0.0314 - val_accuracy: 0.9918 - 2s/epoch - 5ms/step\n",
            "Epoch 149/200\n",
            "\n",
            "Epoch 00149: val_loss did not improve from 0.02744\n",
            "422/422 - 2s - loss: 0.0223 - accuracy: 0.9917 - val_loss: 0.0304 - val_accuracy: 0.9932 - 2s/epoch - 5ms/step\n",
            "Epoch 150/200\n",
            "\n",
            "Epoch 00150: val_loss did not improve from 0.02744\n",
            "422/422 - 2s - loss: 0.0227 - accuracy: 0.9922 - val_loss: 0.0306 - val_accuracy: 0.9928 - 2s/epoch - 5ms/step\n",
            "Epoch 151/200\n",
            "\n",
            "Epoch 00151: val_loss did not improve from 0.02744\n",
            "422/422 - 2s - loss: 0.0243 - accuracy: 0.9924 - val_loss: 0.0307 - val_accuracy: 0.9925 - 2s/epoch - 5ms/step\n",
            "Epoch 152/200\n",
            "\n",
            "Epoch 00152: val_loss did not improve from 0.02744\n",
            "422/422 - 2s - loss: 0.0246 - accuracy: 0.9914 - val_loss: 0.0335 - val_accuracy: 0.9912 - 2s/epoch - 5ms/step\n",
            "Epoch 153/200\n",
            "\n",
            "Epoch 00153: val_loss did not improve from 0.02744\n",
            "422/422 - 2s - loss: 0.0244 - accuracy: 0.9917 - val_loss: 0.0305 - val_accuracy: 0.9920 - 2s/epoch - 5ms/step\n",
            "Epoch 154/200\n",
            "\n",
            "Epoch 00154: val_loss did not improve from 0.02744\n",
            "422/422 - 2s - loss: 0.0220 - accuracy: 0.9926 - val_loss: 0.0319 - val_accuracy: 0.9923 - 2s/epoch - 5ms/step\n",
            "Epoch 155/200\n",
            "\n",
            "Epoch 00155: val_loss did not improve from 0.02744\n",
            "422/422 - 2s - loss: 0.0241 - accuracy: 0.9916 - val_loss: 0.0339 - val_accuracy: 0.9925 - 2s/epoch - 5ms/step\n",
            "Epoch 156/200\n",
            "\n",
            "Epoch 00156: val_loss did not improve from 0.02744\n",
            "422/422 - 2s - loss: 0.0240 - accuracy: 0.9922 - val_loss: 0.0322 - val_accuracy: 0.9928 - 2s/epoch - 5ms/step\n",
            "Epoch 157/200\n",
            "\n",
            "Epoch 00157: val_loss did not improve from 0.02744\n",
            "422/422 - 2s - loss: 0.0217 - accuracy: 0.9926 - val_loss: 0.0323 - val_accuracy: 0.9922 - 2s/epoch - 6ms/step\n",
            "Epoch 158/200\n",
            "\n",
            "Epoch 00158: val_loss did not improve from 0.02744\n",
            "422/422 - 2s - loss: 0.0228 - accuracy: 0.9923 - val_loss: 0.0325 - val_accuracy: 0.9920 - 2s/epoch - 5ms/step\n",
            "Epoch 159/200\n",
            "\n",
            "Epoch 00159: val_loss did not improve from 0.02744\n",
            "422/422 - 2s - loss: 0.0226 - accuracy: 0.9921 - val_loss: 0.0332 - val_accuracy: 0.9912 - 2s/epoch - 5ms/step\n",
            "Epoch 160/200\n",
            "\n",
            "Epoch 00160: val_loss did not improve from 0.02744\n",
            "422/422 - 2s - loss: 0.0229 - accuracy: 0.9922 - val_loss: 0.0323 - val_accuracy: 0.9922 - 2s/epoch - 5ms/step\n",
            "Epoch 161/200\n",
            "\n",
            "Epoch 00161: val_loss did not improve from 0.02744\n",
            "422/422 - 2s - loss: 0.0220 - accuracy: 0.9928 - val_loss: 0.0305 - val_accuracy: 0.9923 - 2s/epoch - 5ms/step\n",
            "Epoch 162/200\n",
            "\n",
            "Epoch 00162: val_loss did not improve from 0.02744\n",
            "422/422 - 2s - loss: 0.0235 - accuracy: 0.9922 - val_loss: 0.0310 - val_accuracy: 0.9925 - 2s/epoch - 5ms/step\n",
            "Epoch 163/200\n",
            "\n",
            "Epoch 00163: val_loss did not improve from 0.02744\n",
            "422/422 - 2s - loss: 0.0235 - accuracy: 0.9919 - val_loss: 0.0332 - val_accuracy: 0.9918 - 2s/epoch - 5ms/step\n",
            "Epoch 164/200\n",
            "\n",
            "Epoch 00164: val_loss did not improve from 0.02744\n",
            "422/422 - 2s - loss: 0.0226 - accuracy: 0.9925 - val_loss: 0.0297 - val_accuracy: 0.9927 - 2s/epoch - 5ms/step\n",
            "Epoch 165/200\n",
            "\n",
            "Epoch 00165: val_loss did not improve from 0.02744\n",
            "422/422 - 2s - loss: 0.0212 - accuracy: 0.9930 - val_loss: 0.0307 - val_accuracy: 0.9922 - 2s/epoch - 5ms/step\n",
            "Epoch 166/200\n",
            "\n",
            "Epoch 00166: val_loss did not improve from 0.02744\n",
            "422/422 - 2s - loss: 0.0235 - accuracy: 0.9919 - val_loss: 0.0303 - val_accuracy: 0.9928 - 2s/epoch - 5ms/step\n",
            "Epoch 167/200\n",
            "\n",
            "Epoch 00167: val_loss did not improve from 0.02744\n",
            "422/422 - 2s - loss: 0.0226 - accuracy: 0.9923 - val_loss: 0.0305 - val_accuracy: 0.9927 - 2s/epoch - 5ms/step\n",
            "Epoch 168/200\n",
            "\n",
            "Epoch 00168: val_loss did not improve from 0.02744\n",
            "422/422 - 2s - loss: 0.0217 - accuracy: 0.9924 - val_loss: 0.0344 - val_accuracy: 0.9918 - 2s/epoch - 5ms/step\n",
            "Epoch 169/200\n",
            "\n",
            "Epoch 00169: val_loss did not improve from 0.02744\n",
            "422/422 - 2s - loss: 0.0235 - accuracy: 0.9923 - val_loss: 0.0305 - val_accuracy: 0.9922 - 2s/epoch - 5ms/step\n",
            "Epoch 170/200\n",
            "\n",
            "Epoch 00170: val_loss did not improve from 0.02744\n",
            "422/422 - 2s - loss: 0.0225 - accuracy: 0.9924 - val_loss: 0.0315 - val_accuracy: 0.9927 - 2s/epoch - 5ms/step\n",
            "Epoch 171/200\n",
            "\n",
            "Epoch 00171: val_loss did not improve from 0.02744\n",
            "422/422 - 2s - loss: 0.0222 - accuracy: 0.9927 - val_loss: 0.0301 - val_accuracy: 0.9922 - 2s/epoch - 5ms/step\n",
            "Epoch 172/200\n",
            "\n",
            "Epoch 00172: val_loss did not improve from 0.02744\n",
            "422/422 - 2s - loss: 0.0215 - accuracy: 0.9921 - val_loss: 0.0310 - val_accuracy: 0.9925 - 2s/epoch - 5ms/step\n",
            "Epoch 173/200\n",
            "\n",
            "Epoch 00173: val_loss did not improve from 0.02744\n",
            "422/422 - 2s - loss: 0.0227 - accuracy: 0.9923 - val_loss: 0.0320 - val_accuracy: 0.9927 - 2s/epoch - 5ms/step\n",
            "Epoch 174/200\n",
            "\n",
            "Epoch 00174: val_loss did not improve from 0.02744\n",
            "422/422 - 2s - loss: 0.0226 - accuracy: 0.9924 - val_loss: 0.0314 - val_accuracy: 0.9925 - 2s/epoch - 5ms/step\n",
            "Epoch 175/200\n",
            "\n",
            "Epoch 00175: val_loss did not improve from 0.02744\n",
            "422/422 - 2s - loss: 0.0219 - accuracy: 0.9922 - val_loss: 0.0325 - val_accuracy: 0.9923 - 2s/epoch - 5ms/step\n",
            "Epoch 176/200\n",
            "\n",
            "Epoch 00176: val_loss did not improve from 0.02744\n",
            "422/422 - 2s - loss: 0.0236 - accuracy: 0.9922 - val_loss: 0.0330 - val_accuracy: 0.9922 - 2s/epoch - 5ms/step\n",
            "Epoch 177/200\n",
            "\n",
            "Epoch 00177: val_loss did not improve from 0.02744\n",
            "422/422 - 2s - loss: 0.0215 - accuracy: 0.9926 - val_loss: 0.0329 - val_accuracy: 0.9908 - 2s/epoch - 5ms/step\n",
            "Epoch 178/200\n",
            "\n",
            "Epoch 00178: val_loss did not improve from 0.02744\n",
            "422/422 - 2s - loss: 0.0226 - accuracy: 0.9926 - val_loss: 0.0337 - val_accuracy: 0.9918 - 2s/epoch - 5ms/step\n",
            "Epoch 179/200\n",
            "\n",
            "Epoch 00179: val_loss did not improve from 0.02744\n",
            "422/422 - 2s - loss: 0.0245 - accuracy: 0.9916 - val_loss: 0.0324 - val_accuracy: 0.9927 - 2s/epoch - 5ms/step\n",
            "Epoch 180/200\n",
            "\n",
            "Epoch 00180: val_loss did not improve from 0.02744\n",
            "422/422 - 2s - loss: 0.0222 - accuracy: 0.9923 - val_loss: 0.0322 - val_accuracy: 0.9927 - 2s/epoch - 5ms/step\n",
            "Epoch 181/200\n",
            "\n",
            "Epoch 00181: val_loss did not improve from 0.02744\n",
            "422/422 - 2s - loss: 0.0216 - accuracy: 0.9929 - val_loss: 0.0335 - val_accuracy: 0.9922 - 2s/epoch - 5ms/step\n",
            "Epoch 182/200\n",
            "\n",
            "Epoch 00182: val_loss did not improve from 0.02744\n",
            "422/422 - 2s - loss: 0.0226 - accuracy: 0.9919 - val_loss: 0.0323 - val_accuracy: 0.9925 - 2s/epoch - 5ms/step\n",
            "Epoch 183/200\n",
            "\n",
            "Epoch 00183: val_loss did not improve from 0.02744\n",
            "422/422 - 2s - loss: 0.0235 - accuracy: 0.9924 - val_loss: 0.0334 - val_accuracy: 0.9918 - 2s/epoch - 5ms/step\n",
            "Epoch 184/200\n",
            "\n",
            "Epoch 00184: val_loss did not improve from 0.02744\n",
            "422/422 - 2s - loss: 0.0219 - accuracy: 0.9928 - val_loss: 0.0331 - val_accuracy: 0.9925 - 2s/epoch - 5ms/step\n",
            "Epoch 185/200\n",
            "\n",
            "Epoch 00185: val_loss did not improve from 0.02744\n",
            "422/422 - 2s - loss: 0.0231 - accuracy: 0.9921 - val_loss: 0.0325 - val_accuracy: 0.9928 - 2s/epoch - 5ms/step\n",
            "Epoch 186/200\n",
            "\n",
            "Epoch 00186: val_loss did not improve from 0.02744\n",
            "422/422 - 2s - loss: 0.0220 - accuracy: 0.9927 - val_loss: 0.0319 - val_accuracy: 0.9923 - 2s/epoch - 5ms/step\n",
            "Epoch 187/200\n",
            "\n",
            "Epoch 00187: val_loss did not improve from 0.02744\n",
            "422/422 - 2s - loss: 0.0215 - accuracy: 0.9926 - val_loss: 0.0341 - val_accuracy: 0.9908 - 2s/epoch - 5ms/step\n",
            "Epoch 188/200\n",
            "\n",
            "Epoch 00188: val_loss did not improve from 0.02744\n",
            "422/422 - 2s - loss: 0.0220 - accuracy: 0.9928 - val_loss: 0.0331 - val_accuracy: 0.9920 - 2s/epoch - 5ms/step\n",
            "Epoch 189/200\n",
            "\n",
            "Epoch 00189: val_loss did not improve from 0.02744\n",
            "422/422 - 2s - loss: 0.0229 - accuracy: 0.9922 - val_loss: 0.0337 - val_accuracy: 0.9917 - 2s/epoch - 5ms/step\n",
            "Epoch 190/200\n",
            "\n",
            "Epoch 00190: val_loss did not improve from 0.02744\n",
            "422/422 - 2s - loss: 0.0223 - accuracy: 0.9925 - val_loss: 0.0326 - val_accuracy: 0.9920 - 2s/epoch - 5ms/step\n",
            "Epoch 191/200\n",
            "\n",
            "Epoch 00191: val_loss did not improve from 0.02744\n",
            "422/422 - 2s - loss: 0.0223 - accuracy: 0.9926 - val_loss: 0.0340 - val_accuracy: 0.9923 - 2s/epoch - 5ms/step\n",
            "Epoch 192/200\n",
            "\n",
            "Epoch 00192: val_loss did not improve from 0.02744\n",
            "422/422 - 2s - loss: 0.0221 - accuracy: 0.9924 - val_loss: 0.0359 - val_accuracy: 0.9908 - 2s/epoch - 5ms/step\n",
            "Epoch 193/200\n",
            "\n",
            "Epoch 00193: val_loss did not improve from 0.02744\n",
            "422/422 - 2s - loss: 0.0217 - accuracy: 0.9928 - val_loss: 0.0358 - val_accuracy: 0.9915 - 2s/epoch - 5ms/step\n",
            "Epoch 194/200\n",
            "\n",
            "Epoch 00194: val_loss did not improve from 0.02744\n",
            "422/422 - 2s - loss: 0.0210 - accuracy: 0.9929 - val_loss: 0.0332 - val_accuracy: 0.9912 - 2s/epoch - 5ms/step\n",
            "Epoch 195/200\n",
            "\n",
            "Epoch 00195: val_loss did not improve from 0.02744\n",
            "422/422 - 2s - loss: 0.0231 - accuracy: 0.9921 - val_loss: 0.0320 - val_accuracy: 0.9927 - 2s/epoch - 5ms/step\n",
            "Epoch 196/200\n",
            "\n",
            "Epoch 00196: val_loss did not improve from 0.02744\n",
            "422/422 - 2s - loss: 0.0211 - accuracy: 0.9931 - val_loss: 0.0304 - val_accuracy: 0.9917 - 2s/epoch - 5ms/step\n",
            "Epoch 197/200\n",
            "\n",
            "Epoch 00197: val_loss did not improve from 0.02744\n",
            "422/422 - 2s - loss: 0.0217 - accuracy: 0.9930 - val_loss: 0.0320 - val_accuracy: 0.9923 - 2s/epoch - 5ms/step\n",
            "Epoch 198/200\n",
            "\n",
            "Epoch 00198: val_loss did not improve from 0.02744\n",
            "422/422 - 2s - loss: 0.0215 - accuracy: 0.9932 - val_loss: 0.0310 - val_accuracy: 0.9930 - 2s/epoch - 5ms/step\n",
            "Epoch 199/200\n",
            "\n",
            "Epoch 00199: val_loss did not improve from 0.02744\n",
            "422/422 - 2s - loss: 0.0226 - accuracy: 0.9922 - val_loss: 0.0325 - val_accuracy: 0.9920 - 2s/epoch - 5ms/step\n",
            "Epoch 200/200\n",
            "\n",
            "Epoch 00200: val_loss did not improve from 0.02744\n",
            "422/422 - 2s - loss: 0.0221 - accuracy: 0.9927 - val_loss: 0.0312 - val_accuracy: 0.9915 - 2s/epoch - 5ms/step\n"
          ]
        }
      ]
    },
    {
      "cell_type": "markdown",
      "metadata": {
        "id": "8w7UIdtIWuCD"
      },
      "source": [
        "## Analyze and comment the training results"
      ]
    },
    {
      "cell_type": "markdown",
      "metadata": {
        "id": "nZqzVAbyhzqQ"
      },
      "source": [
        "### Plotting accuracy/loss graphs"
      ]
    },
    {
      "cell_type": "code",
      "metadata": {
        "id": "OSd4WeNr9Lzi"
      },
      "source": [
        "best_epoch = 72"
      ],
      "execution_count": 193,
      "outputs": []
    },
    {
      "cell_type": "code",
      "metadata": {
        "colab": {
          "base_uri": "https://localhost:8080/",
          "height": 0
        },
        "id": "SQ66TvygbRRB",
        "outputId": "d2ecdf09-2a3f-47a5-a925-fd0b5d2118f2"
      },
      "source": [
        "print('history dict:', network_history.history)"
      ],
      "execution_count": 194,
      "outputs": [
        {
          "output_type": "stream",
          "name": "stdout",
          "text": [
            "history dict: {'loss': [0.5624433755874634, 0.17420890927314758, 0.1283891648054123, 0.10666550695896149, 0.09602024406194687, 0.08816683292388916, 0.08203800767660141, 0.07576458156108856, 0.07048496603965759, 0.06769175082445145, 0.06591309607028961, 0.06417600065469742, 0.06224632263183594, 0.0585843063890934, 0.0574546754360199, 0.05421997234225273, 0.055741146206855774, 0.05285729840397835, 0.051127638667821884, 0.05255194380879402, 0.049939315766096115, 0.049200937151908875, 0.04895491525530815, 0.04573788493871689, 0.045929525047540665, 0.046874288469552994, 0.04464131221175194, 0.045613180845975876, 0.04247106611728668, 0.04395100474357605, 0.04271107167005539, 0.04184336960315704, 0.04015909507870674, 0.04171141982078552, 0.040625546127557755, 0.04069888964295387, 0.041284870356321335, 0.04033636301755905, 0.03885393217206001, 0.038086578249931335, 0.03931776434183121, 0.039159033447504044, 0.03657575696706772, 0.03550424054265022, 0.03736705332994461, 0.035668738186359406, 0.03718166798353195, 0.03549304977059364, 0.037493832409381866, 0.03644154965877533, 0.03548469394445419, 0.0359053909778595, 0.034500852227211, 0.034385282546281815, 0.03284480422735214, 0.03415307402610779, 0.03482440486550331, 0.032184820622205734, 0.03474884852766991, 0.03350643441081047, 0.03373647853732109, 0.03370672091841698, 0.03369775414466858, 0.03099721297621727, 0.031158016994595528, 0.03285842016339302, 0.03142661601305008, 0.030792299658060074, 0.032492443919181824, 0.030201956629753113, 0.0316036157310009, 0.03156638145446777, 0.031516801565885544, 0.03006557933986187, 0.03102128766477108, 0.02936575375497341, 0.031900301575660706, 0.030694806948304176, 0.03092779777944088, 0.029893305152654648, 0.029865864664316177, 0.029922254383563995, 0.02942696399986744, 0.02820737287402153, 0.030417578294873238, 0.029437081888318062, 0.02928009256720543, 0.029171094298362732, 0.028440671041607857, 0.028914395719766617, 0.027262480929493904, 0.026651863008737564, 0.028850743547081947, 0.027811627835035324, 0.028253044933080673, 0.02779800072312355, 0.026695815846323967, 0.026188300922513008, 0.028618982061743736, 0.027072623372077942, 0.02561430260539055, 0.026512498036026955, 0.026337070390582085, 0.025741644203662872, 0.026545103639364243, 0.028047718107700348, 0.026211382821202278, 0.0275120846927166, 0.027715707197785378, 0.026633188128471375, 0.025281520560383797, 0.025500867515802383, 0.026609815657138824, 0.025813275948166847, 0.025301581248641014, 0.026543982326984406, 0.025717362761497498, 0.025723200291395187, 0.026487044990062714, 0.026661263778805733, 0.02528645470738411, 0.02565702609717846, 0.02573464810848236, 0.025256434455513954, 0.02616523951292038, 0.02617214247584343, 0.02534569427371025, 0.02623746357858181, 0.024212537333369255, 0.02409619651734829, 0.025169460102915764, 0.02417939156293869, 0.024455882608890533, 0.024798354133963585, 0.02524462155997753, 0.023971963673830032, 0.023925868794322014, 0.02488706074655056, 0.024525824934244156, 0.024010928347706795, 0.024549128487706184, 0.023048125207424164, 0.02469213493168354, 0.02389341965317726, 0.02346162684261799, 0.023826194927096367, 0.023771772161126137, 0.02443675696849823, 0.02230655774474144, 0.022696299478411674, 0.02430988848209381, 0.024575134739279747, 0.024382689967751503, 0.02200697548687458, 0.02411855012178421, 0.024022774770855904, 0.021693255752325058, 0.02278427965939045, 0.022581078112125397, 0.022931396961212158, 0.02200905978679657, 0.023489294573664665, 0.023451490327715874, 0.02264133282005787, 0.021167445927858353, 0.02353265881538391, 0.022590024396777153, 0.021677376702427864, 0.02353501319885254, 0.02254304103553295, 0.022150089964270592, 0.02148149348795414, 0.02266482636332512, 0.02263362891972065, 0.021900100633502007, 0.023604435846209526, 0.021453920751810074, 0.022577734664082527, 0.024509279057383537, 0.022173654288053513, 0.02159738540649414, 0.02262165956199169, 0.02348063513636589, 0.021872660145163536, 0.023146415129303932, 0.022016221657395363, 0.0215153768658638, 0.022010773420333862, 0.022893233224749565, 0.022335488349199295, 0.02232375554740429, 0.02207140065729618, 0.021705524995923042, 0.020982962101697922, 0.023098431527614594, 0.02108275517821312, 0.02170589566230774, 0.02148793451488018, 0.02261950448155403, 0.02209179289638996], 'accuracy': [0.8239629864692688, 0.9467962980270386, 0.9615926146507263, 0.9669259190559387, 0.9709629416465759, 0.97303706407547, 0.9743888974189758, 0.9764074087142944, 0.9778333306312561, 0.9787963032722473, 0.9792777895927429, 0.9799259305000305, 0.9803333282470703, 0.9815740585327148, 0.9822407364845276, 0.983129620552063, 0.982629656791687, 0.983222246170044, 0.9836296439170837, 0.9836111068725586, 0.984499990940094, 0.984666645526886, 0.9844259023666382, 0.9851852059364319, 0.9852777719497681, 0.9847407341003418, 0.9859259128570557, 0.9851852059364319, 0.9866111278533936, 0.9861481189727783, 0.9861111044883728, 0.9866111278533936, 0.9867963194847107, 0.9864073991775513, 0.9873148202896118, 0.9869999885559082, 0.9865185022354126, 0.9874444603919983, 0.9873148202896118, 0.9876481294631958, 0.987407386302948, 0.987240731716156, 0.988444447517395, 0.9878888726234436, 0.9877592325210571, 0.9890740513801575, 0.9884074330329895, 0.9884814620018005, 0.9878518581390381, 0.9879074096679688, 0.9880740642547607, 0.9881666898727417, 0.9888888597488403, 0.9881296157836914, 0.9892777800559998, 0.9885925650596619, 0.988444447517395, 0.9894074201583862, 0.9890925884246826, 0.9891111254692078, 0.98887038230896, 0.9889814853668213, 0.9887962937355042, 0.9899444580078125, 0.9895926117897034, 0.9891111254692078, 0.9899259209632874, 0.9900555610656738, 0.9889073967933655, 0.9894999861717224, 0.9892407655715942, 0.9893518686294556, 0.9892592430114746, 0.9899629354476929, 0.9892222285270691, 0.9898518323898315, 0.9898518323898315, 0.9894999861717224, 0.989814817905426, 0.9898703694343567, 0.9898333549499512, 0.9898518323898315, 0.9905370473861694, 0.9909444451332092, 0.9900000095367432, 0.9903333187103271, 0.9900555610656738, 0.9902963042259216, 0.990407407283783, 0.9907037019729614, 0.990851879119873, 0.9910555481910706, 0.9902592301368713, 0.9904259443283081, 0.99014812707901, 0.9906296133995056, 0.9910555481910706, 0.9909814596176147, 0.9909814596176147, 0.9905370473861694, 0.9920185208320618, 0.9915925860404968, 0.9915000200271606, 0.9911110997200012, 0.9906481504440308, 0.9907962679862976, 0.9912777543067932, 0.9908148050308228, 0.9906481504440308, 0.991018533706665, 0.9915370345115662, 0.9918333292007446, 0.9909259080886841, 0.991611123085022, 0.9916481375694275, 0.9911110997200012, 0.9913703799247742, 0.9911666512489319, 0.9911110997200012, 0.9911481738090515, 0.9916666746139526, 0.9913889169692993, 0.9917592406272888, 0.9920740723609924, 0.9912037253379822, 0.991018533706665, 0.9916296005249023, 0.9913703799247742, 0.9920555353164673, 0.991518497467041, 0.991351842880249, 0.9920926094055176, 0.991777777671814, 0.9915555715560913, 0.9914259314537048, 0.9918703436851501, 0.9921851754188538, 0.9916296005249023, 0.991611123085022, 0.9920185208320618, 0.9918333292007446, 0.9924259185791016, 0.9913148283958435, 0.992111086845398, 0.9914629459381104, 0.9919259548187256, 0.9917036890983582, 0.9918703436851501, 0.9917222261428833, 0.9921851754188538, 0.9923518300056458, 0.991351842880249, 0.9916666746139526, 0.9926481246948242, 0.991611123085022, 0.9922407269477844, 0.9926481246948242, 0.9922962784767151, 0.992111086845398, 0.9921851754188538, 0.9927963018417358, 0.992222249507904, 0.9918888807296753, 0.9925185441970825, 0.992981493473053, 0.9919259548187256, 0.9923148155212402, 0.9923518300056458, 0.9922778010368347, 0.9924444556236267, 0.9927407503128052, 0.9921481609344482, 0.9923148155212402, 0.9923703670501709, 0.9922407269477844, 0.9922037124633789, 0.9926481246948242, 0.9926111102104187, 0.991611123085022, 0.9922962784767151, 0.9928703904151917, 0.991944432258606, 0.9923703670501709, 0.9928333163261414, 0.9921481609344482, 0.99272221326828, 0.9926481246948242, 0.992814838886261, 0.9921851754188538, 0.9925185441970825, 0.9925925731658936, 0.9923518300056458, 0.9927777647972107, 0.9929074048995972, 0.9920926094055176, 0.9930555820465088, 0.992981493473053, 0.9931666851043701, 0.992222249507904, 0.9927407503128052], 'val_loss': [0.16668151319026947, 0.10981329530477524, 0.08705693483352661, 0.07367850095033646, 0.0699586570262909, 0.05832286924123764, 0.055072616785764694, 0.05477733910083771, 0.0527784638106823, 0.048297226428985596, 0.04816119745373726, 0.04586631804704666, 0.04566030949354172, 0.044396813958883286, 0.04295779764652252, 0.04314086586236954, 0.04219331219792366, 0.043577875941991806, 0.03995802253484726, 0.04074546694755554, 0.03776072338223457, 0.03796545788645744, 0.039183612912893295, 0.04069676995277405, 0.03819502890110016, 0.03743876516819, 0.03745996952056885, 0.0349629670381546, 0.037835195660591125, 0.03861285746097565, 0.035569410771131516, 0.037047699093818665, 0.035224493592977524, 0.03449278324842453, 0.035311076790094376, 0.03423426300287247, 0.034608203917741776, 0.03503226116299629, 0.03467141091823578, 0.03249518573284149, 0.03331359475851059, 0.032523881644010544, 0.03487561643123627, 0.03449026867747307, 0.0336897112429142, 0.03265965357422829, 0.032941628247499466, 0.032699137926101685, 0.032829876989126205, 0.03567883372306824, 0.029061993584036827, 0.03548026457428932, 0.03231504559516907, 0.03149709478020668, 0.03176979720592499, 0.03361686319112778, 0.032310884445905685, 0.03264287859201431, 0.030662555247545242, 0.03152990713715553, 0.03201162442564964, 0.03230440616607666, 0.031057050451636314, 0.03130165487527847, 0.03238806501030922, 0.029789414256811142, 0.030738288536667824, 0.03214975446462631, 0.0317336842417717, 0.02833123318850994, 0.029808351770043373, 0.02743782103061676, 0.028954485431313515, 0.030762426555156708, 0.03231560438871384, 0.0296975988894701, 0.030432263389229774, 0.03426048532128334, 0.0325297936797142, 0.03562526777386665, 0.0329885371029377, 0.03595618158578873, 0.031221996992826462, 0.030843958258628845, 0.030435819178819656, 0.03065088950097561, 0.03150906041264534, 0.03214588761329651, 0.030403099954128265, 0.029400818049907684, 0.030758285894989967, 0.030384819954633713, 0.030450131744146347, 0.029950957745313644, 0.029438557103276253, 0.029716653749346733, 0.03141229227185249, 0.03158654645085335, 0.03130198270082474, 0.032147981226444244, 0.03231792151927948, 0.031604520976543427, 0.03287050500512123, 0.03269828110933304, 0.03134864941239357, 0.031754642724990845, 0.030561968684196472, 0.03317401558160782, 0.03220219165086746, 0.031834933906793594, 0.03494622930884361, 0.03222575783729553, 0.03068968467414379, 0.03157398849725723, 0.031021906062960625, 0.030357105657458305, 0.032054055482149124, 0.031667619943618774, 0.03284210339188576, 0.03268761560320854, 0.032464899122714996, 0.03284155949950218, 0.031403571367263794, 0.03222472593188286, 0.032809093594551086, 0.03245127573609352, 0.03297852724790573, 0.03299262374639511, 0.033765483647584915, 0.03340177237987518, 0.032556332647800446, 0.030626030638813972, 0.03456758335232735, 0.032957568764686584, 0.030426736921072006, 0.03210236504673958, 0.03273295238614082, 0.0321139432489872, 0.030456459149718285, 0.03154505789279938, 0.031108025461435318, 0.03279486671090126, 0.03471365198493004, 0.0329819954931736, 0.03207141533493996, 0.03313583508133888, 0.030820464715361595, 0.031369373202323914, 0.03035641275346279, 0.030569279566407204, 0.030669482424855232, 0.03348234295845032, 0.030514048412442207, 0.03190943971276283, 0.033938582986593246, 0.03222373127937317, 0.03227696940302849, 0.03253369778394699, 0.033168647438287735, 0.03231740742921829, 0.03045041859149933, 0.030978914350271225, 0.03320954740047455, 0.029672568663954735, 0.030741900205612183, 0.030296673998236656, 0.030512791126966476, 0.03436068817973137, 0.030485356226563454, 0.03148144483566284, 0.030132468789815903, 0.031015904620289803, 0.03199588879942894, 0.031438808888196945, 0.03249867632985115, 0.03297977149486542, 0.032910656183958054, 0.03372492641210556, 0.032440535724163055, 0.03222869709134102, 0.03349749743938446, 0.03229997679591179, 0.03343448415398598, 0.03314678370952606, 0.03248954936861992, 0.031919293105602264, 0.03414168208837509, 0.0331193245947361, 0.033688753843307495, 0.03263102099299431, 0.033988699316978455, 0.03593994677066803, 0.03583000600337982, 0.03322519734501839, 0.03204065561294556, 0.030402589589357376, 0.03198351711034775, 0.0310275349766016, 0.032527051866054535, 0.031220274046063423], 'val_accuracy': [0.950166642665863, 0.9664999842643738, 0.971666693687439, 0.9773333072662354, 0.9783333539962769, 0.9816666841506958, 0.98416668176651, 0.9828333258628845, 0.984000027179718, 0.9860000014305115, 0.9860000014305115, 0.987500011920929, 0.9850000143051147, 0.9866666793823242, 0.9866666793823242, 0.9884999990463257, 0.987333357334137, 0.987666666507721, 0.9890000224113464, 0.9886666536331177, 0.9898333549499512, 0.9893333315849304, 0.9893333315849304, 0.9879999756813049, 0.9898333549499512, 0.9901666641235352, 0.9900000095367432, 0.9904999732971191, 0.9891666769981384, 0.9900000095367432, 0.9901666641235352, 0.9900000095367432, 0.9904999732971191, 0.9906666874885559, 0.9900000095367432, 0.9903333187103271, 0.9908333420753479, 0.9900000095367432, 0.9900000095367432, 0.9906666874885559, 0.9906666874885559, 0.9915000200271606, 0.9904999732971191, 0.9903333187103271, 0.9911666512489319, 0.9911666512489319, 0.9909999966621399, 0.9913333058357239, 0.9904999732971191, 0.9909999966621399, 0.9916666746139526, 0.9906666874885559, 0.9916666746139526, 0.9909999966621399, 0.9913333058357239, 0.9909999966621399, 0.9911666512489319, 0.9903333187103271, 0.9913333058357239, 0.9904999732971191, 0.9908333420753479, 0.9904999732971191, 0.9916666746139526, 0.9909999966621399, 0.9915000200271606, 0.9919999837875366, 0.9911666512489319, 0.9901666641235352, 0.9906666874885559, 0.9931666851043701, 0.9923333525657654, 0.9918333292007446, 0.9923333525657654, 0.9916666746139526, 0.9915000200271606, 0.9909999966621399, 0.9915000200271606, 0.9903333187103271, 0.9913333058357239, 0.9898333549499512, 0.9913333058357239, 0.9903333187103271, 0.9918333292007446, 0.9915000200271606, 0.9916666746139526, 0.9909999966621399, 0.9915000200271606, 0.9909999966621399, 0.9916666746139526, 0.9921666383743286, 0.9921666383743286, 0.9918333292007446, 0.9911666512489319, 0.9918333292007446, 0.9923333525657654, 0.9915000200271606, 0.9916666746139526, 0.9908333420753479, 0.9921666383743286, 0.9915000200271606, 0.9916666746139526, 0.9919999837875366, 0.9915000200271606, 0.9911666512489319, 0.9916666746139526, 0.9919999837875366, 0.9925000071525574, 0.9915000200271606, 0.9923333525657654, 0.9919999837875366, 0.9916666746139526, 0.9909999966621399, 0.9916666746139526, 0.9921666383743286, 0.9925000071525574, 0.9919999837875366, 0.9918333292007446, 0.9923333525657654, 0.9918333292007446, 0.9915000200271606, 0.9923333525657654, 0.9919999837875366, 0.9926666617393494, 0.9921666383743286, 0.9923333525657654, 0.9918333292007446, 0.9916666746139526, 0.9921666383743286, 0.9916666746139526, 0.9926666617393494, 0.9928333163261414, 0.9923333525657654, 0.9916666746139526, 0.9915000200271606, 0.9929999709129333, 0.9918333292007446, 0.9916666746139526, 0.9926666617393494, 0.9926666617393494, 0.9918333292007446, 0.9925000071525574, 0.9909999966621399, 0.9928333163261414, 0.9919999837875366, 0.9916666746139526, 0.9925000071525574, 0.9925000071525574, 0.9918333292007446, 0.9931666851043701, 0.9928333163261414, 0.9925000071525574, 0.9911666512489319, 0.9919999837875366, 0.9923333525657654, 0.9925000071525574, 0.9928333163261414, 0.9921666383743286, 0.9919999837875366, 0.9911666512489319, 0.9921666383743286, 0.9923333525657654, 0.9925000071525574, 0.9918333292007446, 0.9926666617393494, 0.9921666383743286, 0.9928333163261414, 0.9926666617393494, 0.9918333292007446, 0.9921666383743286, 0.9926666617393494, 0.9921666383743286, 0.9925000071525574, 0.9926666617393494, 0.9925000071525574, 0.9923333525657654, 0.9921666383743286, 0.9908333420753479, 0.9918333292007446, 0.9926666617393494, 0.9926666617393494, 0.9921666383743286, 0.9925000071525574, 0.9918333292007446, 0.9925000071525574, 0.9928333163261414, 0.9923333525657654, 0.9908333420753479, 0.9919999837875366, 0.9916666746139526, 0.9919999837875366, 0.9923333525657654, 0.9908333420753479, 0.9915000200271606, 0.9911666512489319, 0.9926666617393494, 0.9916666746139526, 0.9923333525657654, 0.9929999709129333, 0.9919999837875366, 0.9915000200271606]}\n"
          ]
        }
      ]
    },
    {
      "cell_type": "code",
      "metadata": {
        "colab": {
          "base_uri": "https://localhost:8080/",
          "height": 547
        },
        "id": "zw4_DX7rbRRB",
        "outputId": "da504723-7579-4355-b491-b89db33063bf"
      },
      "source": [
        "x_plot = list(range(1,n_epochs+1))\n",
        "plot_history(x_plot, network_history, best_epoch)"
      ],
      "execution_count": 195,
      "outputs": [
        {
          "output_type": "display_data",
          "data": {
            "image/png": "[encoded data removed]",
            "text/plain": [
              "<Figure size 432x288 with 1 Axes>"
            ]
          },
          "metadata": {
            "needs_background": "light"
          }
        },
        {
          "output_type": "display_data",
          "data": {
            "image/png": "[encoded data removed]",
            "text/plain": [
              "<Figure size 432x288 with 1 Axes>"
            ]
          },
          "metadata": {
            "needs_background": "light"
          }
        }
      ]
    },
    {
      "cell_type": "markdown",
      "metadata": {
        "id": "f77JKlLIBNK2"
      },
      "source": [
        "### Comments\n",
        "\n"
      ]
    },
    {
      "cell_type": "markdown",
      "metadata": {
        "id": "M5wDnEzRBcDd"
      },
      "source": [
        "As we can see, the model converges quickly, and then tends to improve very slowly. This is the best result I was able to obtain with this configuration, as with lower learning rates the convergence was slower, while with higher learning rates we had a strong instability.\n",
        "In general, the two curves tend to be very close together, and therefore there is not a strong sign of overfitting."
      ]
    },
    {
      "cell_type": "markdown",
      "metadata": {
        "id": "2jiOZzvyJbsN"
      },
      "source": [
        "## Validate the model and comment the results"
      ]
    },
    {
      "cell_type": "markdown",
      "metadata": {
        "id": "khiB2wNSW-xd"
      },
      "source": [
        "### Performance metrics"
      ]
    },
    {
      "cell_type": "markdown",
      "metadata": {
        "id": "-LJcYAwxKjns"
      },
      "source": [
        "####Training set"
      ]
    },
    {
      "cell_type": "code",
      "metadata": {
        "id": "a0Z8KUa0rdK4",
        "colab": {
          "base_uri": "https://localhost:8080/",
          "height": 0
        },
        "outputId": "8a465a48-6a24-4bae-c8f3-20911ac250bb"
      },
      "source": [
        "score_opt = best_model.model.evaluate(X_train, Y_train, batch_size=128, verbose=0)\n",
        "print(\"Training loss: \", score_opt[0])\n",
        "print(\"Training accuracy: \", score_opt[1])"
      ],
      "execution_count": 196,
      "outputs": [
        {
          "output_type": "stream",
          "name": "stdout",
          "text": [
            "Training loss:  0.005156494677066803\n",
            "Training accuracy:  0.9986851811408997\n"
          ]
        }
      ]
    },
    {
      "cell_type": "code",
      "metadata": {
        "colab": {
          "base_uri": "https://localhost:8080/",
          "height": 0
        },
        "id": "6R4FNjsrrdLI",
        "outputId": "c0c642d6-150b-4c21-d43b-20297c19ea0e"
      },
      "source": [
        "predictions_opt = best_model.model.predict(X_train)\n",
        "y_classes_opt = np.round(predictions_opt).astype(np.int8)\n",
        "print(classification_report(y_classes_opt, Y_train, digits=5))"
      ],
      "execution_count": 197,
      "outputs": [
        {
          "output_type": "stream",
          "name": "stdout",
          "text": [
            "              precision    recall  f1-score   support\n",
            "\n",
            "           0    0.99981   1.00000   0.99991      5347\n",
            "           1    0.99918   0.99852   0.99885      6075\n",
            "           2    0.99925   0.99963   0.99944      5335\n",
            "           3    0.99819   0.99964   0.99891      5524\n",
            "           4    0.99753   0.99829   0.99791      5253\n",
            "           5    0.99856   0.99877   0.99867      4877\n",
            "           6    1.00000   0.99888   0.99944      5341\n",
            "           7    0.99876   0.99806   0.99841      5672\n",
            "           8    0.99735   0.99943   0.99839      5263\n",
            "           9    0.99736   0.99623   0.99679      5306\n",
            "\n",
            "   micro avg    0.99861   0.99874   0.99868     53993\n",
            "   macro avg    0.99860   0.99874   0.99867     53993\n",
            "weighted avg    0.99861   0.99874   0.99868     53993\n",
            " samples avg    0.99861   0.99861   0.99861     53993\n",
            "\n"
          ]
        }
      ]
    },
    {
      "cell_type": "markdown",
      "metadata": {
        "id": "HhwLrp8NKwmz"
      },
      "source": [
        "####Validation set"
      ]
    },
    {
      "cell_type": "code",
      "metadata": {
        "colab": {
          "base_uri": "https://localhost:8080/",
          "height": 0
        },
        "id": "WFSOK-ywOJXV",
        "outputId": "39baaccf-b6e5-4899-ea45-7535c3924d21"
      },
      "source": [
        "score_opt = best_model.model.evaluate(X_val, Y_val, batch_size=128, verbose=0)\n",
        "print(\"Validation loss: \", score_opt[0])\n",
        "print(\"Validation accuracy: \", score_opt[1])"
      ],
      "execution_count": 198,
      "outputs": [
        {
          "output_type": "stream",
          "name": "stdout",
          "text": [
            "Validation loss:  0.031220274046063423\n",
            "Validation accuracy:  0.9915000200271606\n"
          ]
        }
      ]
    },
    {
      "cell_type": "code",
      "metadata": {
        "colab": {
          "base_uri": "https://localhost:8080/",
          "height": 0
        },
        "id": "nclsW3b-Kwm0",
        "outputId": "917017c1-3768-4015-80a1-87786d920514"
      },
      "source": [
        "predictions_opt = best_model.model.predict(X_val)\n",
        "y_classes_opt = np.round(predictions_opt).astype(np.int8)\n",
        "print(classification_report(y_classes_opt, Y_val, digits=5))"
      ],
      "execution_count": 199,
      "outputs": [
        {
          "output_type": "stream",
          "name": "stdout",
          "text": [
            "              precision    recall  f1-score   support\n",
            "\n",
            "           0    0.99652   0.99307   0.99479       577\n",
            "           1    0.99702   0.98964   0.99332       676\n",
            "           2    0.98551   0.99190   0.98869       617\n",
            "           3    0.98831   0.99329   0.99079       596\n",
            "           4    0.99316   0.99147   0.99231       586\n",
            "           5    0.99448   0.98901   0.99174       546\n",
            "           6    0.99485   0.99828   0.99656       581\n",
            "           7    0.98827   0.98827   0.98827       597\n",
            "           8    0.98960   0.99304   0.99132       575\n",
            "           9    0.98767   0.98920   0.98843       648\n",
            "\n",
            "   micro avg    0.99150   0.99167   0.99158      5999\n",
            "   macro avg    0.99154   0.99172   0.99162      5999\n",
            "weighted avg    0.99151   0.99167   0.99158      5999\n",
            " samples avg    0.99150   0.99150   0.99150      5999\n",
            "\n"
          ]
        }
      ]
    },
    {
      "cell_type": "markdown",
      "metadata": {
        "id": "jxl6xSrwKxE3"
      },
      "source": [
        "####Test set"
      ]
    },
    {
      "cell_type": "code",
      "metadata": {
        "colab": {
          "base_uri": "https://localhost:8080/",
          "height": 0
        },
        "id": "hVZJbfbwOM_F",
        "outputId": "da72cf4e-12cc-4d0b-f027-d03e738718bb"
      },
      "source": [
        "score_opt = best_model.model.evaluate(X_test, Y_test, batch_size=128, verbose=0)\n",
        "print(\"Test loss: \", score_opt[0])\n",
        "print(\"Test accuracy: \", score_opt[1])"
      ],
      "execution_count": 200,
      "outputs": [
        {
          "output_type": "stream",
          "name": "stdout",
          "text": [
            "Test loss:  0.02680101990699768\n",
            "Test accuracy:  0.9923999905586243\n"
          ]
        }
      ]
    },
    {
      "cell_type": "code",
      "metadata": {
        "colab": {
          "base_uri": "https://localhost:8080/",
          "height": 0
        },
        "id": "LtUY_t9FKxE3",
        "outputId": "eaca4ae1-2f7e-4efb-9ed6-5383c9001d6e"
      },
      "source": [
        "predictions_opt = best_model.model.predict(X_test)\n",
        "y_classes_opt = np.round(predictions_opt).astype(np.int8)\n",
        "print(classification_report(y_classes_opt, Y_test, digits=5))"
      ],
      "execution_count": 201,
      "outputs": [
        {
          "output_type": "stream",
          "name": "stdout",
          "text": [
            "              precision    recall  f1-score   support\n",
            "\n",
            "           0    0.99286   0.99591   0.99438       977\n",
            "           1    0.99736   0.99211   0.99473      1141\n",
            "           2    0.98837   0.98933   0.98885      1031\n",
            "           3    0.99505   0.99702   0.99604      1008\n",
            "           4    0.99084   0.99591   0.99336       977\n",
            "           5    0.99552   0.99329   0.99440       894\n",
            "           6    0.98852   0.99266   0.99059       954\n",
            "           7    0.98930   0.98930   0.98930      1028\n",
            "           8    0.99076   0.99178   0.99127       973\n",
            "           9    0.98910   0.99106   0.99008      1007\n",
            "\n",
            "   micro avg    0.99180   0.99279   0.99230      9990\n",
            "   macro avg    0.99177   0.99284   0.99230      9990\n",
            "weighted avg    0.99181   0.99279   0.99230      9990\n",
            " samples avg    0.99180   0.99180   0.99180      9990\n",
            "\n"
          ]
        }
      ]
    },
    {
      "cell_type": "markdown",
      "metadata": {
        "id": "zUWQkg4iKwm0"
      },
      "source": [
        "#### Comments"
      ]
    },
    {
      "cell_type": "markdown",
      "metadata": {
        "id": "THT41IkNKwm0"
      },
      "source": [
        "As we can see, the performances are very good both in training and in validation or test sets. In fact we have for the training set an accuracy of 99.87%, and an accuracy of 99.15% and 99.24% respectively for. The model, despite having a slight overfitting on the training set, seems to have a good generalization capacity.\n",
        "\n",
        "For f1-score, since the classes are fairly balanced, both weighted avg and micro avg are a good general measure metric. Since we have f1-score results similar to those of accuracy, we can make the same conclusions."
      ]
    }
  ]
}